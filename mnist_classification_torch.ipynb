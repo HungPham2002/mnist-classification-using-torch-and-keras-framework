{
  "nbformat": 4,
  "nbformat_minor": 0,
  "metadata": {
    "colab": {
      "provenance": [],
      "gpuType": "T4",
      "authorship_tag": "ABX9TyPUs1qh7UuFKco6IdMJ7ReQ",
      "include_colab_link": true
    },
    "kernelspec": {
      "name": "python3",
      "display_name": "Python 3"
    },
    "language_info": {
      "name": "python"
    },
    "accelerator": "GPU"
  },
  "cells": [
    {
      "cell_type": "markdown",
      "metadata": {
        "id": "view-in-github",
        "colab_type": "text"
      },
      "source": [
        "<a href=\"https://colab.research.google.com/github/HungPham2002/mnist-classification-using-torch-and-keras-framework/blob/main/mnist_classification_torch.ipynb\" target=\"_parent\"><img src=\"https://colab.research.google.com/assets/colab-badge.svg\" alt=\"Open In Colab\"/></a>"
      ]
    },
    {
      "cell_type": "code",
      "execution_count": 3,
      "metadata": {
        "id": "ubQDY8rHJ1z7"
      },
      "outputs": [],
      "source": [
        "import torch\n",
        "import torch.nn as nn\n",
        "import torch.nn.functional as F\n",
        "import torch.optim as optim\n",
        "from torchvision import datasets\n",
        "from torchvision import transforms\n",
        "import matplotlib.pyplot as plt"
      ]
    },
    {
      "cell_type": "code",
      "source": [
        "from google.colab import drive\n",
        "drive.mount('/content/drive')"
      ],
      "metadata": {
        "colab": {
          "base_uri": "https://localhost:8080/"
        },
        "id": "_7K1UCH1O8EM",
        "outputId": "f6e21c1f-a3f4-43f1-c080-9be2d64e8170"
      },
      "execution_count": 4,
      "outputs": [
        {
          "output_type": "stream",
          "name": "stdout",
          "text": [
            "Mounted at /content/drive\n"
          ]
        }
      ]
    },
    {
      "cell_type": "code",
      "source": [],
      "metadata": {
        "id": "y2b2FYcVPawG"
      },
      "execution_count": 4,
      "outputs": []
    },
    {
      "cell_type": "markdown",
      "source": [
        "# Preparing the dataset"
      ],
      "metadata": {
        "id": "ATNzd3Tiykwm"
      }
    },
    {
      "cell_type": "code",
      "source": [
        "data_path = '/content/drive/MyDrive/Colab_Notebooks/Basic Pytorch/Image_Classification_Pytorch'\n",
        "transform = transforms.Compose([\n",
        "    transforms.ToTensor(),\n",
        "    transforms.Normalize((0.1307,), (0.3081,))\n",
        "])\n",
        "train_dataset = datasets.MNIST(data_path, train=True, transform=transform, download=True)\n",
        "test_dataset = datasets.MNIST(data_path, train=False, transform=transform, download=True)"
      ],
      "metadata": {
        "id": "uHI2cEJSLPGd"
      },
      "execution_count": 5,
      "outputs": []
    },
    {
      "cell_type": "code",
      "source": [
        "isinstance(train_dataset, torch.utils.data.Dataset)"
      ],
      "metadata": {
        "colab": {
          "base_uri": "https://localhost:8080/"
        },
        "id": "lTs4CH3YLPIx",
        "outputId": "a94eb822-2603-4451-dbf9-1988e0b478fc"
      },
      "execution_count": 6,
      "outputs": [
        {
          "output_type": "execute_result",
          "data": {
            "text/plain": [
              "True"
            ]
          },
          "metadata": {},
          "execution_count": 6
        }
      ]
    },
    {
      "cell_type": "code",
      "source": [
        "len(train_dataset)"
      ],
      "metadata": {
        "colab": {
          "base_uri": "https://localhost:8080/"
        },
        "id": "MrMVSN6jKgkS",
        "outputId": "7222ce71-556d-44aa-f069-4acebefee3df"
      },
      "execution_count": 7,
      "outputs": [
        {
          "output_type": "execute_result",
          "data": {
            "text/plain": [
              "60000"
            ]
          },
          "metadata": {},
          "execution_count": 7
        }
      ]
    },
    {
      "cell_type": "code",
      "source": [
        "len(test_dataset)"
      ],
      "metadata": {
        "colab": {
          "base_uri": "https://localhost:8080/"
        },
        "id": "jMkqdHAaKgmn",
        "outputId": "c0e49da1-6f68-4786-cee5-b123ea049b17"
      },
      "execution_count": 42,
      "outputs": [
        {
          "output_type": "execute_result",
          "data": {
            "text/plain": [
              "10000"
            ]
          },
          "metadata": {},
          "execution_count": 42
        }
      ]
    },
    {
      "cell_type": "code",
      "source": [
        "batch_size_train = 64\n",
        "batch_size_test = 1000"
      ],
      "metadata": {
        "id": "aXAxkHphzFcO"
      },
      "execution_count": 9,
      "outputs": []
    },
    {
      "cell_type": "code",
      "source": [
        "train_loader = torch.utils.data.DataLoader(dataset=train_dataset, batch_size=batch_size_train, shuffle=True)\n",
        "test_loader = torch.utils.data.DataLoader(dataset=test_dataset, batch_size=batch_size_test, shuffle=True)"
      ],
      "metadata": {
        "id": "ILkU-j5hKgsp"
      },
      "execution_count": 10,
      "outputs": []
    },
    {
      "cell_type": "code",
      "source": [
        "examples = enumerate(test_loader)\n",
        "batch_idx, (example_data, example_targets) = next(examples)"
      ],
      "metadata": {
        "id": "SQQtIGGwzeuV"
      },
      "execution_count": 11,
      "outputs": []
    },
    {
      "cell_type": "code",
      "source": [
        "example_data.shape"
      ],
      "metadata": {
        "colab": {
          "base_uri": "https://localhost:8080/"
        },
        "id": "lRIO64m6zez_",
        "outputId": "ad69e3b7-3218-42f1-c810-90ebd6e930e3"
      },
      "execution_count": 12,
      "outputs": [
        {
          "output_type": "execute_result",
          "data": {
            "text/plain": [
              "torch.Size([1000, 1, 28, 28])"
            ]
          },
          "metadata": {},
          "execution_count": 12
        }
      ]
    },
    {
      "cell_type": "code",
      "source": [
        "fig = plt.figure()\n",
        "for i in range(6):\n",
        "  plt.subplot(2,3,i+1)\n",
        "  plt.tight_layout()\n",
        "  plt.imshow(example_data[i][0], cmap='gray', interpolation='none')\n",
        "  plt.title(\"Ground Truth: {}\".format(example_targets[i]))\n",
        "  plt.xticks([])\n",
        "  plt.yticks([])\n",
        "fig"
      ],
      "metadata": {
        "colab": {
          "base_uri": "https://localhost:8080/",
          "height": 859
        },
        "id": "I3Ptcb9Qze2P",
        "outputId": "2854451a-77e6-4be0-b43e-81f3eb9cf447"
      },
      "execution_count": 13,
      "outputs": [
        {
          "output_type": "execute_result",
          "data": {
            "text/plain": [
              "<Figure size 640x480 with 6 Axes>"
            ],
            "image/png": "[encoded data removed]"
          },
          "metadata": {},
          "execution_count": 13
        },
        {
          "output_type": "display_data",
          "data": {
            "text/plain": [
              "<Figure size 640x480 with 6 Axes>"
            ],
            "image/png": "[encoded data removed]"
          },
          "metadata": {}
        }
      ]
    },
    {
      "cell_type": "markdown",
      "source": [
        "# Initialize network and optimizer"
      ],
      "metadata": {
        "id": "C5V-GkbGyUkk"
      }
    },
    {
      "cell_type": "code",
      "source": [
        "# model\n",
        "class Net(nn.Module):\n",
        "  def __init__(self):\n",
        "    super(Net, self).__init__()\n",
        "    self.conv1 = nn.Conv2d(1, 10, kernel_size=5)\n",
        "    self.conv2 = nn.Conv2d(10, 20, kernel_size=5)\n",
        "    self.conv2_drop = nn.Dropout2d()\n",
        "    self.fc1 = nn.Linear(320, 50)\n",
        "    self.fc2 = nn.Linear(50,10)\n",
        "\n",
        "  def forward(self,x):\n",
        "    x = F.relu(F.max_pool2d(self.conv1(x), 2))\n",
        "    x = F.relu(F.max_pool2d(self.conv2_drop(self.conv2(x)), 2))\n",
        "    x = x.view(-1, 320)\n",
        "    x = F.relu(self.fc1(x))\n",
        "    x = F.dropout(x, training=self.training)\n",
        "    x = self.fc2(x)\n",
        "    return F.log_softmax(x)\n"
      ],
      "metadata": {
        "id": "iQJtp8giKgun"
      },
      "execution_count": 14,
      "outputs": []
    },
    {
      "cell_type": "code",
      "source": [
        "n_epochs = 3\n",
        "learning_rate = 0.01\n",
        "momentum = 0.5\n",
        "log_interval = 10\n",
        "\n",
        "random_seed = 1\n",
        "torch.backends.cudnn.enabled = False\n",
        "torch.manual_seed(random_seed)"
      ],
      "metadata": {
        "colab": {
          "base_uri": "https://localhost:8080/"
        },
        "id": "uxc-seNGyvBH",
        "outputId": "c22d50a1-608d-40cf-daa7-e2b25405675a"
      },
      "execution_count": 15,
      "outputs": [
        {
          "output_type": "execute_result",
          "data": {
            "text/plain": [
              "<torch._C.Generator at 0x788f793f7db0>"
            ]
          },
          "metadata": {},
          "execution_count": 15
        }
      ]
    },
    {
      "cell_type": "code",
      "source": [
        "model = Net()\n",
        "optimizer = optim.SGD(model.parameters(), lr = learning_rate, momentum = momentum)"
      ],
      "metadata": {
        "id": "cKjYubpYPygH"
      },
      "execution_count": 16,
      "outputs": []
    },
    {
      "cell_type": "markdown",
      "source": [
        "# Training the model"
      ],
      "metadata": {
        "id": "rVy373f2ybPy"
      }
    },
    {
      "cell_type": "code",
      "source": [
        "train_losses = []\n",
        "train_counter = []\n",
        "test_losses = []\n",
        "test_counter = [i*len(train_loader.dataset) for i in range(n_epochs + 1)]"
      ],
      "metadata": {
        "id": "5iamvmCbySF5"
      },
      "execution_count": 17,
      "outputs": []
    },
    {
      "cell_type": "code",
      "source": [
        "def train(epoch):\n",
        "  model.train()\n",
        "  for batch_idx, (data, target) in enumerate(train_loader):\n",
        "    optimizer.zero_grad()\n",
        "    output = model(data)\n",
        "    loss = F.nll_loss(output, target)\n",
        "    loss.backward()\n",
        "    optimizer.step()\n",
        "    if batch_idx % log_interval == 0:\n",
        "      print('Train Epoch: {} [{}/{} ({:.0f}%)]\\tLoss: {:.6f}'.format(\n",
        "        epoch, batch_idx * len(data), len(train_loader.dataset),\n",
        "        100. * batch_idx / len(train_loader), loss.item()))\n",
        "      train_losses.append(loss.item())\n",
        "      train_counter.append(\n",
        "        (batch_idx*64) + ((epoch-1)*len(train_loader.dataset)))\n",
        "      torch.save(model.state_dict(), '/content/drive/MyDrive/Colab_Notebooks/Basic Pytorch/Image_Classification_Pytorch/results/model.pth')\n",
        "      torch.save(optimizer.state_dict(), '/content/drive/MyDrive/Colab_Notebooks/Basic Pytorch/Image_Classification_Pytorch/results/optimizer.pth')"
      ],
      "metadata": {
        "id": "yx5ZxvqOKgw7"
      },
      "execution_count": 18,
      "outputs": []
    },
    {
      "cell_type": "code",
      "source": [
        "def test():\n",
        "  model.eval()\n",
        "  test_loss = 0\n",
        "  correct = 0\n",
        "  with torch.no_grad():\n",
        "    for data, target in test_loader:\n",
        "      output = model(data)\n",
        "      test_loss += F.nll_loss(output, target, size_average=False).item()\n",
        "      pred = output.data.max(1, keepdim=True)[1]\n",
        "      correct += pred.eq(target.data.view_as(pred)).sum()\n",
        "  test_loss /= len(test_loader.dataset)\n",
        "  test_losses.append(test_loss)\n",
        "  print('\\nTest set: Avg. loss: {:.4f}, Accuracy: {}/{} ({:.0f}%)\\n'.format(\n",
        "    test_loss, correct, len(test_loader.dataset),\n",
        "    100. * correct / len(test_loader.dataset)))"
      ],
      "metadata": {
        "id": "LzSzhmjN1Kyx"
      },
      "execution_count": 47,
      "outputs": []
    },
    {
      "cell_type": "code",
      "source": [
        "test()"
      ],
      "metadata": {
        "colab": {
          "base_uri": "https://localhost:8080/"
        },
        "id": "KPQQps9f1K1V",
        "outputId": "93e1ff6a-50c6-49c4-fec5-cb21e2829202"
      },
      "execution_count": 20,
      "outputs": [
        {
          "output_type": "stream",
          "name": "stderr",
          "text": [
            "<ipython-input-14-e5bf5bc5cb6e>:18: UserWarning: Implicit dimension choice for log_softmax has been deprecated. Change the call to include dim=X as an argument.\n",
            "  return F.log_softmax(x)\n",
            "/usr/local/lib/python3.10/dist-packages/torch/nn/_reduction.py:42: UserWarning: size_average and reduce args will be deprecated, please use reduction='sum' instead.\n",
            "  warnings.warn(warning.format(ret))\n"
          ]
        },
        {
          "output_type": "stream",
          "name": "stdout",
          "text": [
            "\n",
            "Test set: Avg. loss: 2.3316, Accuracy: 1137/10000 (11%)\n",
            "\n"
          ]
        }
      ]
    },
    {
      "cell_type": "code",
      "source": [
        "for epoch in range(1, n_epochs + 1):\n",
        "  train(epoch)"
      ],
      "metadata": {
        "colab": {
          "base_uri": "https://localhost:8080/"
        },
        "id": "pUTY9cQq1K39",
        "outputId": "1a975e9a-8aee-4791-f87d-6085e983a12d"
      },
      "execution_count": 21,
      "outputs": [
        {
          "output_type": "stream",
          "name": "stdout",
          "text": [
            "Train Epoch: 1 [0/60000 (0%)]\tLoss: 2.360446\n"
          ]
        },
        {
          "output_type": "stream",
          "name": "stderr",
          "text": [
            "<ipython-input-14-e5bf5bc5cb6e>:18: UserWarning: Implicit dimension choice for log_softmax has been deprecated. Change the call to include dim=X as an argument.\n",
            "  return F.log_softmax(x)\n"
          ]
        },
        {
          "output_type": "stream",
          "name": "stdout",
          "text": [
            "Train Epoch: 1 [640/60000 (1%)]\tLoss: 2.364010\n",
            "Train Epoch: 1 [1280/60000 (2%)]\tLoss: 2.329987\n",
            "Train Epoch: 1 [1920/60000 (3%)]\tLoss: 2.249067\n",
            "Train Epoch: 1 [2560/60000 (4%)]\tLoss: 2.288059\n",
            "Train Epoch: 1 [3200/60000 (5%)]\tLoss: 2.218085\n",
            "Train Epoch: 1 [3840/60000 (6%)]\tLoss: 2.214215\n",
            "Train Epoch: 1 [4480/60000 (7%)]\tLoss: 2.111192\n",
            "Train Epoch: 1 [5120/60000 (9%)]\tLoss: 2.092593\n",
            "Train Epoch: 1 [5760/60000 (10%)]\tLoss: 1.989863\n",
            "Train Epoch: 1 [6400/60000 (11%)]\tLoss: 1.911151\n",
            "Train Epoch: 1 [7040/60000 (12%)]\tLoss: 1.659503\n",
            "Train Epoch: 1 [7680/60000 (13%)]\tLoss: 1.869479\n",
            "Train Epoch: 1 [8320/60000 (14%)]\tLoss: 1.660094\n",
            "Train Epoch: 1 [8960/60000 (15%)]\tLoss: 1.577335\n",
            "Train Epoch: 1 [9600/60000 (16%)]\tLoss: 1.550470\n",
            "Train Epoch: 1 [10240/60000 (17%)]\tLoss: 1.304469\n",
            "Train Epoch: 1 [10880/60000 (18%)]\tLoss: 1.408615\n",
            "Train Epoch: 1 [11520/60000 (19%)]\tLoss: 1.306857\n",
            "Train Epoch: 1 [12160/60000 (20%)]\tLoss: 1.171410\n",
            "Train Epoch: 1 [12800/60000 (21%)]\tLoss: 1.161339\n",
            "Train Epoch: 1 [13440/60000 (22%)]\tLoss: 1.056438\n",
            "Train Epoch: 1 [14080/60000 (23%)]\tLoss: 0.973559\n",
            "Train Epoch: 1 [14720/60000 (25%)]\tLoss: 0.988466\n",
            "Train Epoch: 1 [15360/60000 (26%)]\tLoss: 0.876379\n",
            "Train Epoch: 1 [16000/60000 (27%)]\tLoss: 1.110772\n",
            "Train Epoch: 1 [16640/60000 (28%)]\tLoss: 0.848415\n",
            "Train Epoch: 1 [17280/60000 (29%)]\tLoss: 1.067798\n",
            "Train Epoch: 1 [17920/60000 (30%)]\tLoss: 0.947581\n",
            "Train Epoch: 1 [18560/60000 (31%)]\tLoss: 0.950487\n",
            "Train Epoch: 1 [19200/60000 (32%)]\tLoss: 0.988592\n",
            "Train Epoch: 1 [19840/60000 (33%)]\tLoss: 0.938802\n",
            "Train Epoch: 1 [20480/60000 (34%)]\tLoss: 0.906000\n",
            "Train Epoch: 1 [21120/60000 (35%)]\tLoss: 0.704395\n",
            "Train Epoch: 1 [21760/60000 (36%)]\tLoss: 0.705103\n",
            "Train Epoch: 1 [22400/60000 (37%)]\tLoss: 0.868624\n",
            "Train Epoch: 1 [23040/60000 (38%)]\tLoss: 0.987996\n",
            "Train Epoch: 1 [23680/60000 (39%)]\tLoss: 0.861656\n",
            "Train Epoch: 1 [24320/60000 (41%)]\tLoss: 0.918720\n",
            "Train Epoch: 1 [24960/60000 (42%)]\tLoss: 0.529649\n",
            "Train Epoch: 1 [25600/60000 (43%)]\tLoss: 0.621262\n",
            "Train Epoch: 1 [26240/60000 (44%)]\tLoss: 0.812039\n",
            "Train Epoch: 1 [26880/60000 (45%)]\tLoss: 0.842563\n",
            "Train Epoch: 1 [27520/60000 (46%)]\tLoss: 0.580595\n",
            "Train Epoch: 1 [28160/60000 (47%)]\tLoss: 0.708272\n",
            "Train Epoch: 1 [28800/60000 (48%)]\tLoss: 0.743612\n",
            "Train Epoch: 1 [29440/60000 (49%)]\tLoss: 0.566691\n",
            "Train Epoch: 1 [30080/60000 (50%)]\tLoss: 0.446431\n",
            "Train Epoch: 1 [30720/60000 (51%)]\tLoss: 0.523174\n",
            "Train Epoch: 1 [31360/60000 (52%)]\tLoss: 0.617997\n",
            "Train Epoch: 1 [32000/60000 (53%)]\tLoss: 0.593866\n",
            "Train Epoch: 1 [32640/60000 (54%)]\tLoss: 0.573006\n",
            "Train Epoch: 1 [33280/60000 (55%)]\tLoss: 0.654734\n",
            "Train Epoch: 1 [33920/60000 (57%)]\tLoss: 0.478193\n",
            "Train Epoch: 1 [34560/60000 (58%)]\tLoss: 0.720270\n",
            "Train Epoch: 1 [35200/60000 (59%)]\tLoss: 0.663824\n",
            "Train Epoch: 1 [35840/60000 (60%)]\tLoss: 0.555305\n",
            "Train Epoch: 1 [36480/60000 (61%)]\tLoss: 0.455683\n",
            "Train Epoch: 1 [37120/60000 (62%)]\tLoss: 0.538201\n",
            "Train Epoch: 1 [37760/60000 (63%)]\tLoss: 0.590499\n",
            "Train Epoch: 1 [38400/60000 (64%)]\tLoss: 0.704334\n",
            "Train Epoch: 1 [39040/60000 (65%)]\tLoss: 0.767689\n",
            "Train Epoch: 1 [39680/60000 (66%)]\tLoss: 0.484586\n",
            "Train Epoch: 1 [40320/60000 (67%)]\tLoss: 0.565749\n",
            "Train Epoch: 1 [40960/60000 (68%)]\tLoss: 0.537692\n",
            "Train Epoch: 1 [41600/60000 (69%)]\tLoss: 0.697664\n",
            "Train Epoch: 1 [42240/60000 (70%)]\tLoss: 0.447792\n",
            "Train Epoch: 1 [42880/60000 (71%)]\tLoss: 0.531910\n",
            "Train Epoch: 1 [43520/60000 (72%)]\tLoss: 0.647030\n",
            "Train Epoch: 1 [44160/60000 (74%)]\tLoss: 0.461378\n",
            "Train Epoch: 1 [44800/60000 (75%)]\tLoss: 0.577602\n",
            "Train Epoch: 1 [45440/60000 (76%)]\tLoss: 0.449869\n",
            "Train Epoch: 1 [46080/60000 (77%)]\tLoss: 0.534643\n",
            "Train Epoch: 1 [46720/60000 (78%)]\tLoss: 0.496862\n",
            "Train Epoch: 1 [47360/60000 (79%)]\tLoss: 0.637217\n",
            "Train Epoch: 1 [48000/60000 (80%)]\tLoss: 0.597895\n",
            "Train Epoch: 1 [48640/60000 (81%)]\tLoss: 0.485279\n",
            "Train Epoch: 1 [49280/60000 (82%)]\tLoss: 0.568045\n",
            "Train Epoch: 1 [49920/60000 (83%)]\tLoss: 0.353510\n",
            "Train Epoch: 1 [50560/60000 (84%)]\tLoss: 0.433448\n",
            "Train Epoch: 1 [51200/60000 (85%)]\tLoss: 0.829115\n",
            "Train Epoch: 1 [51840/60000 (86%)]\tLoss: 0.490514\n",
            "Train Epoch: 1 [52480/60000 (87%)]\tLoss: 0.411179\n",
            "Train Epoch: 1 [53120/60000 (88%)]\tLoss: 0.482651\n",
            "Train Epoch: 1 [53760/60000 (90%)]\tLoss: 0.514768\n",
            "Train Epoch: 1 [54400/60000 (91%)]\tLoss: 0.280120\n",
            "Train Epoch: 1 [55040/60000 (92%)]\tLoss: 0.506808\n",
            "Train Epoch: 1 [55680/60000 (93%)]\tLoss: 0.336932\n",
            "Train Epoch: 1 [56320/60000 (94%)]\tLoss: 0.773418\n",
            "Train Epoch: 1 [56960/60000 (95%)]\tLoss: 0.425488\n",
            "Train Epoch: 1 [57600/60000 (96%)]\tLoss: 0.325743\n",
            "Train Epoch: 1 [58240/60000 (97%)]\tLoss: 0.485403\n",
            "Train Epoch: 1 [58880/60000 (98%)]\tLoss: 0.548090\n",
            "Train Epoch: 1 [59520/60000 (99%)]\tLoss: 0.373808\n",
            "Train Epoch: 2 [0/60000 (0%)]\tLoss: 0.301433\n",
            "Train Epoch: 2 [640/60000 (1%)]\tLoss: 0.640996\n",
            "Train Epoch: 2 [1280/60000 (2%)]\tLoss: 0.316819\n",
            "Train Epoch: 2 [1920/60000 (3%)]\tLoss: 0.762256\n",
            "Train Epoch: 2 [2560/60000 (4%)]\tLoss: 0.648873\n",
            "Train Epoch: 2 [3200/60000 (5%)]\tLoss: 0.448568\n",
            "Train Epoch: 2 [3840/60000 (6%)]\tLoss: 0.503124\n",
            "Train Epoch: 2 [4480/60000 (7%)]\tLoss: 0.257488\n",
            "Train Epoch: 2 [5120/60000 (9%)]\tLoss: 0.718090\n",
            "Train Epoch: 2 [5760/60000 (10%)]\tLoss: 0.827025\n",
            "Train Epoch: 2 [6400/60000 (11%)]\tLoss: 0.482223\n",
            "Train Epoch: 2 [7040/60000 (12%)]\tLoss: 0.381189\n",
            "Train Epoch: 2 [7680/60000 (13%)]\tLoss: 0.570028\n",
            "Train Epoch: 2 [8320/60000 (14%)]\tLoss: 0.453792\n",
            "Train Epoch: 2 [8960/60000 (15%)]\tLoss: 0.300854\n",
            "Train Epoch: 2 [9600/60000 (16%)]\tLoss: 0.382101\n",
            "Train Epoch: 2 [10240/60000 (17%)]\tLoss: 0.435101\n",
            "Train Epoch: 2 [10880/60000 (18%)]\tLoss: 0.341851\n",
            "Train Epoch: 2 [11520/60000 (19%)]\tLoss: 0.236416\n",
            "Train Epoch: 2 [12160/60000 (20%)]\tLoss: 0.239750\n",
            "Train Epoch: 2 [12800/60000 (21%)]\tLoss: 0.352862\n",
            "Train Epoch: 2 [13440/60000 (22%)]\tLoss: 0.719730\n",
            "Train Epoch: 2 [14080/60000 (23%)]\tLoss: 0.529828\n",
            "Train Epoch: 2 [14720/60000 (25%)]\tLoss: 0.383921\n",
            "Train Epoch: 2 [15360/60000 (26%)]\tLoss: 0.357891\n",
            "Train Epoch: 2 [16000/60000 (27%)]\tLoss: 0.348181\n",
            "Train Epoch: 2 [16640/60000 (28%)]\tLoss: 0.711762\n",
            "Train Epoch: 2 [17280/60000 (29%)]\tLoss: 0.329786\n",
            "Train Epoch: 2 [17920/60000 (30%)]\tLoss: 0.408971\n",
            "Train Epoch: 2 [18560/60000 (31%)]\tLoss: 0.493638\n",
            "Train Epoch: 2 [19200/60000 (32%)]\tLoss: 0.493762\n",
            "Train Epoch: 2 [19840/60000 (33%)]\tLoss: 0.429987\n",
            "Train Epoch: 2 [20480/60000 (34%)]\tLoss: 0.480462\n",
            "Train Epoch: 2 [21120/60000 (35%)]\tLoss: 0.458941\n",
            "Train Epoch: 2 [21760/60000 (36%)]\tLoss: 0.382520\n",
            "Train Epoch: 2 [22400/60000 (37%)]\tLoss: 0.310826\n",
            "Train Epoch: 2 [23040/60000 (38%)]\tLoss: 0.585642\n",
            "Train Epoch: 2 [23680/60000 (39%)]\tLoss: 0.282190\n",
            "Train Epoch: 2 [24320/60000 (41%)]\tLoss: 0.427414\n",
            "Train Epoch: 2 [24960/60000 (42%)]\tLoss: 0.259534\n",
            "Train Epoch: 2 [25600/60000 (43%)]\tLoss: 0.431915\n",
            "Train Epoch: 2 [26240/60000 (44%)]\tLoss: 0.358730\n",
            "Train Epoch: 2 [26880/60000 (45%)]\tLoss: 0.509705\n",
            "Train Epoch: 2 [27520/60000 (46%)]\tLoss: 0.609925\n",
            "Train Epoch: 2 [28160/60000 (47%)]\tLoss: 0.541743\n",
            "Train Epoch: 2 [28800/60000 (48%)]\tLoss: 0.449719\n",
            "Train Epoch: 2 [29440/60000 (49%)]\tLoss: 0.792608\n",
            "Train Epoch: 2 [30080/60000 (50%)]\tLoss: 0.261326\n",
            "Train Epoch: 2 [30720/60000 (51%)]\tLoss: 0.335647\n",
            "Train Epoch: 2 [31360/60000 (52%)]\tLoss: 0.366527\n",
            "Train Epoch: 2 [32000/60000 (53%)]\tLoss: 0.297170\n",
            "Train Epoch: 2 [32640/60000 (54%)]\tLoss: 0.352382\n",
            "Train Epoch: 2 [33280/60000 (55%)]\tLoss: 0.211844\n",
            "Train Epoch: 2 [33920/60000 (57%)]\tLoss: 0.347272\n",
            "Train Epoch: 2 [34560/60000 (58%)]\tLoss: 0.411908\n",
            "Train Epoch: 2 [35200/60000 (59%)]\tLoss: 0.175313\n",
            "Train Epoch: 2 [35840/60000 (60%)]\tLoss: 0.266947\n",
            "Train Epoch: 2 [36480/60000 (61%)]\tLoss: 0.319217\n",
            "Train Epoch: 2 [37120/60000 (62%)]\tLoss: 0.301566\n",
            "Train Epoch: 2 [37760/60000 (63%)]\tLoss: 0.286391\n",
            "Train Epoch: 2 [38400/60000 (64%)]\tLoss: 0.308676\n",
            "Train Epoch: 2 [39040/60000 (65%)]\tLoss: 0.303718\n",
            "Train Epoch: 2 [39680/60000 (66%)]\tLoss: 0.427542\n",
            "Train Epoch: 2 [40320/60000 (67%)]\tLoss: 0.259908\n",
            "Train Epoch: 2 [40960/60000 (68%)]\tLoss: 0.456866\n",
            "Train Epoch: 2 [41600/60000 (69%)]\tLoss: 0.192566\n",
            "Train Epoch: 2 [42240/60000 (70%)]\tLoss: 0.193000\n",
            "Train Epoch: 2 [42880/60000 (71%)]\tLoss: 0.254557\n",
            "Train Epoch: 2 [43520/60000 (72%)]\tLoss: 0.209576\n",
            "Train Epoch: 2 [44160/60000 (74%)]\tLoss: 0.509657\n",
            "Train Epoch: 2 [44800/60000 (75%)]\tLoss: 0.565550\n",
            "Train Epoch: 2 [45440/60000 (76%)]\tLoss: 0.371710\n",
            "Train Epoch: 2 [46080/60000 (77%)]\tLoss: 0.268732\n",
            "Train Epoch: 2 [46720/60000 (78%)]\tLoss: 0.344063\n",
            "Train Epoch: 2 [47360/60000 (79%)]\tLoss: 0.342343\n",
            "Train Epoch: 2 [48000/60000 (80%)]\tLoss: 0.604968\n",
            "Train Epoch: 2 [48640/60000 (81%)]\tLoss: 0.320824\n",
            "Train Epoch: 2 [49280/60000 (82%)]\tLoss: 0.301780\n",
            "Train Epoch: 2 [49920/60000 (83%)]\tLoss: 0.401681\n",
            "Train Epoch: 2 [50560/60000 (84%)]\tLoss: 0.318530\n",
            "Train Epoch: 2 [51200/60000 (85%)]\tLoss: 0.352702\n",
            "Train Epoch: 2 [51840/60000 (86%)]\tLoss: 0.272805\n",
            "Train Epoch: 2 [52480/60000 (87%)]\tLoss: 0.234518\n",
            "Train Epoch: 2 [53120/60000 (88%)]\tLoss: 0.241631\n",
            "Train Epoch: 2 [53760/60000 (90%)]\tLoss: 0.275471\n",
            "Train Epoch: 2 [54400/60000 (91%)]\tLoss: 0.230826\n",
            "Train Epoch: 2 [55040/60000 (92%)]\tLoss: 0.282157\n",
            "Train Epoch: 2 [55680/60000 (93%)]\tLoss: 0.283511\n",
            "Train Epoch: 2 [56320/60000 (94%)]\tLoss: 0.270635\n",
            "Train Epoch: 2 [56960/60000 (95%)]\tLoss: 0.270076\n",
            "Train Epoch: 2 [57600/60000 (96%)]\tLoss: 0.323423\n",
            "Train Epoch: 2 [58240/60000 (97%)]\tLoss: 0.396834\n",
            "Train Epoch: 2 [58880/60000 (98%)]\tLoss: 0.428686\n",
            "Train Epoch: 2 [59520/60000 (99%)]\tLoss: 0.309841\n",
            "Train Epoch: 3 [0/60000 (0%)]\tLoss: 0.350276\n",
            "Train Epoch: 3 [640/60000 (1%)]\tLoss: 0.390284\n",
            "Train Epoch: 3 [1280/60000 (2%)]\tLoss: 0.370583\n",
            "Train Epoch: 3 [1920/60000 (3%)]\tLoss: 0.452931\n",
            "Train Epoch: 3 [2560/60000 (4%)]\tLoss: 0.224381\n",
            "Train Epoch: 3 [3200/60000 (5%)]\tLoss: 0.355046\n",
            "Train Epoch: 3 [3840/60000 (6%)]\tLoss: 0.222558\n",
            "Train Epoch: 3 [4480/60000 (7%)]\tLoss: 0.448998\n",
            "Train Epoch: 3 [5120/60000 (9%)]\tLoss: 0.216032\n",
            "Train Epoch: 3 [5760/60000 (10%)]\tLoss: 0.269055\n",
            "Train Epoch: 3 [6400/60000 (11%)]\tLoss: 0.610218\n",
            "Train Epoch: 3 [7040/60000 (12%)]\tLoss: 0.256751\n",
            "Train Epoch: 3 [7680/60000 (13%)]\tLoss: 0.378103\n",
            "Train Epoch: 3 [8320/60000 (14%)]\tLoss: 0.387966\n",
            "Train Epoch: 3 [8960/60000 (15%)]\tLoss: 0.227272\n",
            "Train Epoch: 3 [9600/60000 (16%)]\tLoss: 0.373610\n",
            "Train Epoch: 3 [10240/60000 (17%)]\tLoss: 0.357443\n",
            "Train Epoch: 3 [10880/60000 (18%)]\tLoss: 0.304463\n",
            "Train Epoch: 3 [11520/60000 (19%)]\tLoss: 0.537437\n",
            "Train Epoch: 3 [12160/60000 (20%)]\tLoss: 0.402703\n",
            "Train Epoch: 3 [12800/60000 (21%)]\tLoss: 0.215852\n",
            "Train Epoch: 3 [13440/60000 (22%)]\tLoss: 0.487818\n",
            "Train Epoch: 3 [14080/60000 (23%)]\tLoss: 0.172950\n",
            "Train Epoch: 3 [14720/60000 (25%)]\tLoss: 0.240704\n",
            "Train Epoch: 3 [15360/60000 (26%)]\tLoss: 0.287692\n",
            "Train Epoch: 3 [16000/60000 (27%)]\tLoss: 0.167992\n",
            "Train Epoch: 3 [16640/60000 (28%)]\tLoss: 0.370105\n",
            "Train Epoch: 3 [17280/60000 (29%)]\tLoss: 0.226293\n",
            "Train Epoch: 3 [17920/60000 (30%)]\tLoss: 0.386938\n",
            "Train Epoch: 3 [18560/60000 (31%)]\tLoss: 0.242531\n",
            "Train Epoch: 3 [19200/60000 (32%)]\tLoss: 0.228840\n",
            "Train Epoch: 3 [19840/60000 (33%)]\tLoss: 0.415311\n",
            "Train Epoch: 3 [20480/60000 (34%)]\tLoss: 0.197317\n",
            "Train Epoch: 3 [21120/60000 (35%)]\tLoss: 0.345658\n",
            "Train Epoch: 3 [21760/60000 (36%)]\tLoss: 0.196427\n",
            "Train Epoch: 3 [22400/60000 (37%)]\tLoss: 0.269931\n",
            "Train Epoch: 3 [23040/60000 (38%)]\tLoss: 0.374223\n",
            "Train Epoch: 3 [23680/60000 (39%)]\tLoss: 0.375535\n",
            "Train Epoch: 3 [24320/60000 (41%)]\tLoss: 0.190656\n",
            "Train Epoch: 3 [24960/60000 (42%)]\tLoss: 0.356244\n",
            "Train Epoch: 3 [25600/60000 (43%)]\tLoss: 0.219456\n",
            "Train Epoch: 3 [26240/60000 (44%)]\tLoss: 0.274721\n",
            "Train Epoch: 3 [26880/60000 (45%)]\tLoss: 0.269424\n",
            "Train Epoch: 3 [27520/60000 (46%)]\tLoss: 0.182975\n",
            "Train Epoch: 3 [28160/60000 (47%)]\tLoss: 0.104753\n",
            "Train Epoch: 3 [28800/60000 (48%)]\tLoss: 0.302731\n",
            "Train Epoch: 3 [29440/60000 (49%)]\tLoss: 0.238488\n",
            "Train Epoch: 3 [30080/60000 (50%)]\tLoss: 0.260130\n",
            "Train Epoch: 3 [30720/60000 (51%)]\tLoss: 0.315092\n",
            "Train Epoch: 3 [31360/60000 (52%)]\tLoss: 0.362587\n",
            "Train Epoch: 3 [32000/60000 (53%)]\tLoss: 0.179492\n",
            "Train Epoch: 3 [32640/60000 (54%)]\tLoss: 0.137899\n",
            "Train Epoch: 3 [33280/60000 (55%)]\tLoss: 0.520751\n",
            "Train Epoch: 3 [33920/60000 (57%)]\tLoss: 0.270617\n",
            "Train Epoch: 3 [34560/60000 (58%)]\tLoss: 0.278758\n",
            "Train Epoch: 3 [35200/60000 (59%)]\tLoss: 0.198935\n",
            "Train Epoch: 3 [35840/60000 (60%)]\tLoss: 0.305049\n",
            "Train Epoch: 3 [36480/60000 (61%)]\tLoss: 0.319194\n",
            "Train Epoch: 3 [37120/60000 (62%)]\tLoss: 0.317203\n",
            "Train Epoch: 3 [37760/60000 (63%)]\tLoss: 0.095721\n",
            "Train Epoch: 3 [38400/60000 (64%)]\tLoss: 0.272029\n",
            "Train Epoch: 3 [39040/60000 (65%)]\tLoss: 0.243128\n",
            "Train Epoch: 3 [39680/60000 (66%)]\tLoss: 0.229639\n",
            "Train Epoch: 3 [40320/60000 (67%)]\tLoss: 0.308475\n",
            "Train Epoch: 3 [40960/60000 (68%)]\tLoss: 0.456987\n",
            "Train Epoch: 3 [41600/60000 (69%)]\tLoss: 0.138411\n",
            "Train Epoch: 3 [42240/60000 (70%)]\tLoss: 0.163631\n",
            "Train Epoch: 3 [42880/60000 (71%)]\tLoss: 0.257610\n",
            "Train Epoch: 3 [43520/60000 (72%)]\tLoss: 0.297764\n",
            "Train Epoch: 3 [44160/60000 (74%)]\tLoss: 0.144104\n",
            "Train Epoch: 3 [44800/60000 (75%)]\tLoss: 0.193035\n",
            "Train Epoch: 3 [45440/60000 (76%)]\tLoss: 0.334539\n",
            "Train Epoch: 3 [46080/60000 (77%)]\tLoss: 0.304514\n",
            "Train Epoch: 3 [46720/60000 (78%)]\tLoss: 0.268379\n",
            "Train Epoch: 3 [47360/60000 (79%)]\tLoss: 0.203422\n",
            "Train Epoch: 3 [48000/60000 (80%)]\tLoss: 0.272060\n",
            "Train Epoch: 3 [48640/60000 (81%)]\tLoss: 0.170608\n",
            "Train Epoch: 3 [49280/60000 (82%)]\tLoss: 0.327741\n",
            "Train Epoch: 3 [49920/60000 (83%)]\tLoss: 0.408391\n",
            "Train Epoch: 3 [50560/60000 (84%)]\tLoss: 0.238458\n",
            "Train Epoch: 3 [51200/60000 (85%)]\tLoss: 0.244988\n",
            "Train Epoch: 3 [51840/60000 (86%)]\tLoss: 0.160062\n",
            "Train Epoch: 3 [52480/60000 (87%)]\tLoss: 0.264632\n",
            "Train Epoch: 3 [53120/60000 (88%)]\tLoss: 0.263516\n",
            "Train Epoch: 3 [53760/60000 (90%)]\tLoss: 0.287579\n",
            "Train Epoch: 3 [54400/60000 (91%)]\tLoss: 0.204762\n",
            "Train Epoch: 3 [55040/60000 (92%)]\tLoss: 0.212199\n",
            "Train Epoch: 3 [55680/60000 (93%)]\tLoss: 0.168845\n",
            "Train Epoch: 3 [56320/60000 (94%)]\tLoss: 0.192611\n",
            "Train Epoch: 3 [56960/60000 (95%)]\tLoss: 0.323248\n",
            "Train Epoch: 3 [57600/60000 (96%)]\tLoss: 0.162434\n",
            "Train Epoch: 3 [58240/60000 (97%)]\tLoss: 0.215491\n",
            "Train Epoch: 3 [58880/60000 (98%)]\tLoss: 0.312941\n",
            "Train Epoch: 3 [59520/60000 (99%)]\tLoss: 0.197053\n"
          ]
        }
      ]
    },
    {
      "cell_type": "code",
      "source": [
        "test()"
      ],
      "metadata": {
        "colab": {
          "base_uri": "https://localhost:8080/"
        },
        "id": "U_PBInhbPykB",
        "outputId": "d7aa04ee-3d59-43db-b0ad-3a0fbee4e3b3"
      },
      "execution_count": 63,
      "outputs": [
        {
          "output_type": "stream",
          "name": "stderr",
          "text": [
            "<ipython-input-14-e5bf5bc5cb6e>:18: UserWarning: Implicit dimension choice for log_softmax has been deprecated. Change the call to include dim=X as an argument.\n",
            "  return F.log_softmax(x)\n"
          ]
        },
        {
          "output_type": "stream",
          "name": "stdout",
          "text": [
            "\n",
            "Test set: Avg. loss: 0.0586, Accuracy: 9820/10000 (98%)\n",
            "\n"
          ]
        }
      ]
    },
    {
      "cell_type": "markdown",
      "source": [
        "# Evaluate the model performance"
      ],
      "metadata": {
        "id": "_dB75Ait7fwp"
      }
    },
    {
      "cell_type": "code",
      "source": [
        "plt.plot(train_counter, train_losses, color='blue')\n",
        "plt.scatter(test_counter, test_losses, color='red')\n",
        "plt.legend(['Train Loss', 'Test Loss'], loc='upper right')\n",
        "plt.xlabel('number of training examples seen')\n",
        "plt.ylabel('negative log likelihood loss')\n"
      ],
      "metadata": {
        "colab": {
          "base_uri": "https://localhost:8080/",
          "height": 466
        },
        "id": "Y4cs0Jq62zKM",
        "outputId": "b03f8484-e6e8-4f6d-d843-9b3ee156a450"
      },
      "execution_count": 53,
      "outputs": [
        {
          "output_type": "execute_result",
          "data": {
            "text/plain": [
              "Text(0, 0.5, 'negative log likelihood loss')"
            ]
          },
          "metadata": {},
          "execution_count": 53
        },
        {
          "output_type": "display_data",
          "data": {
            "text/plain": [
              "<Figure size 640x480 with 1 Axes>"
            ],
            "image/png": "[encoded data removed]"
          },
          "metadata": {}
        }
      ]
    },
    {
      "cell_type": "code",
      "source": [
        "with torch.no_grad():\n",
        "  output = model(example_data)"
      ],
      "metadata": {
        "id": "juh3J6eYDY0i"
      },
      "execution_count": null,
      "outputs": []
    },
    {
      "cell_type": "code",
      "source": [
        "fig = plt.figure()\n",
        "for i in range(6):\n",
        "  plt.subplot(2,3,i+1)\n",
        "  plt.tight_layout()\n",
        "  plt.imshow(example_data[i][0], cmap='gray', interpolation='none')\n",
        "  plt.title(\"Prediction: {}\".format(\n",
        "    output.data.max(1, keepdim=True)[1][i].item()))\n",
        "  plt.xticks([])\n",
        "  plt.yticks([])\n",
        "fig"
      ],
      "metadata": {
        "colab": {
          "base_uri": "https://localhost:8080/",
          "height": 859
        },
        "id": "YtwJ--oz2zMV",
        "outputId": "20a2360b-9bcd-4264-9782-b78af5358d59"
      },
      "execution_count": 56,
      "outputs": [
        {
          "output_type": "execute_result",
          "data": {
            "text/plain": [
              "<Figure size 640x480 with 6 Axes>"
            ],
            "image/png": "[encoded data removed]"
          },
          "metadata": {},
          "execution_count": 56
        },
        {
          "output_type": "display_data",
          "data": {
            "text/plain": [
              "<Figure size 640x480 with 6 Axes>"
            ],
            "image/png": "[encoded data removed]"
          },
          "metadata": {}
        }
      ]
    },
    {
      "cell_type": "markdown",
      "source": [
        "# Continued training from checkpoints"
      ],
      "metadata": {
        "id": "n-wgBNQ8DyBf"
      }
    },
    {
      "cell_type": "code",
      "source": [
        "continued_network = Net()\n",
        "continued_optimizer = optim.SGD(model.parameters(), lr=learning_rate,\n",
        "                                momentum=momentum)"
      ],
      "metadata": {
        "id": "0IBEoOIC2zOX"
      },
      "execution_count": 57,
      "outputs": []
    },
    {
      "cell_type": "code",
      "source": [
        "network_state_dict = torch.load('/content/drive/MyDrive/Colab_Notebooks/Basic Pytorch/Image_Classification_Pytorch/results/model.pth')\n",
        "continued_network.load_state_dict(network_state_dict)\n",
        "optimizer_state_dict = torch.load('/content/drive/MyDrive/Colab_Notebooks/Basic Pytorch/Image_Classification_Pytorch/results/optimizer.pth')\n",
        "continued_optimizer.load_state_dict(optimizer_state_dict)"
      ],
      "metadata": {
        "id": "muIcQH0ZKgzi"
      },
      "execution_count": 58,
      "outputs": []
    },
    {
      "cell_type": "code",
      "source": [
        "for i in range(4,9):\n",
        "  test_counter.append(i*len(train_loader.dataset))\n",
        "  train(i)\n",
        "  test()"
      ],
      "metadata": {
        "colab": {
          "base_uri": "https://localhost:8080/"
        },
        "id": "W8t2Ul-8D_G1",
        "outputId": "a5c499b4-7732-4db0-dff1-d10960fb5f16"
      },
      "execution_count": 59,
      "outputs": [
        {
          "output_type": "stream",
          "name": "stderr",
          "text": [
            "<ipython-input-14-e5bf5bc5cb6e>:18: UserWarning: Implicit dimension choice for log_softmax has been deprecated. Change the call to include dim=X as an argument.\n",
            "  return F.log_softmax(x)\n"
          ]
        },
        {
          "output_type": "stream",
          "name": "stdout",
          "text": [
            "Train Epoch: 4 [0/60000 (0%)]\tLoss: 0.261792\n",
            "Train Epoch: 4 [640/60000 (1%)]\tLoss: 0.274454\n",
            "Train Epoch: 4 [1280/60000 (2%)]\tLoss: 0.302220\n",
            "Train Epoch: 4 [1920/60000 (3%)]\tLoss: 0.312160\n",
            "Train Epoch: 4 [2560/60000 (4%)]\tLoss: 0.161405\n",
            "Train Epoch: 4 [3200/60000 (5%)]\tLoss: 0.185558\n",
            "Train Epoch: 4 [3840/60000 (6%)]\tLoss: 0.151217\n",
            "Train Epoch: 4 [4480/60000 (7%)]\tLoss: 0.122113\n",
            "Train Epoch: 4 [5120/60000 (9%)]\tLoss: 0.135832\n",
            "Train Epoch: 4 [5760/60000 (10%)]\tLoss: 0.184512\n",
            "Train Epoch: 4 [6400/60000 (11%)]\tLoss: 0.136049\n",
            "Train Epoch: 4 [7040/60000 (12%)]\tLoss: 0.209028\n",
            "Train Epoch: 4 [7680/60000 (13%)]\tLoss: 0.282582\n",
            "Train Epoch: 4 [8320/60000 (14%)]\tLoss: 0.634747\n",
            "Train Epoch: 4 [8960/60000 (15%)]\tLoss: 0.323479\n",
            "Train Epoch: 4 [9600/60000 (16%)]\tLoss: 0.279102\n",
            "Train Epoch: 4 [10240/60000 (17%)]\tLoss: 0.208233\n",
            "Train Epoch: 4 [10880/60000 (18%)]\tLoss: 0.359531\n",
            "Train Epoch: 4 [11520/60000 (19%)]\tLoss: 0.317275\n",
            "Train Epoch: 4 [12160/60000 (20%)]\tLoss: 0.390599\n",
            "Train Epoch: 4 [12800/60000 (21%)]\tLoss: 0.337068\n",
            "Train Epoch: 4 [13440/60000 (22%)]\tLoss: 0.263782\n",
            "Train Epoch: 4 [14080/60000 (23%)]\tLoss: 0.396709\n",
            "Train Epoch: 4 [14720/60000 (25%)]\tLoss: 0.345710\n",
            "Train Epoch: 4 [15360/60000 (26%)]\tLoss: 0.213504\n",
            "Train Epoch: 4 [16000/60000 (27%)]\tLoss: 0.198414\n",
            "Train Epoch: 4 [16640/60000 (28%)]\tLoss: 0.418512\n",
            "Train Epoch: 4 [17280/60000 (29%)]\tLoss: 0.156004\n",
            "Train Epoch: 4 [17920/60000 (30%)]\tLoss: 0.319910\n",
            "Train Epoch: 4 [18560/60000 (31%)]\tLoss: 0.185794\n",
            "Train Epoch: 4 [19200/60000 (32%)]\tLoss: 0.221451\n",
            "Train Epoch: 4 [19840/60000 (33%)]\tLoss: 0.341153\n",
            "Train Epoch: 4 [20480/60000 (34%)]\tLoss: 0.225776\n",
            "Train Epoch: 4 [21120/60000 (35%)]\tLoss: 0.182615\n",
            "Train Epoch: 4 [21760/60000 (36%)]\tLoss: 0.135465\n",
            "Train Epoch: 4 [22400/60000 (37%)]\tLoss: 0.199021\n",
            "Train Epoch: 4 [23040/60000 (38%)]\tLoss: 0.120210\n",
            "Train Epoch: 4 [23680/60000 (39%)]\tLoss: 0.140880\n",
            "Train Epoch: 4 [24320/60000 (41%)]\tLoss: 0.178216\n",
            "Train Epoch: 4 [24960/60000 (42%)]\tLoss: 0.107617\n",
            "Train Epoch: 4 [25600/60000 (43%)]\tLoss: 0.209992\n",
            "Train Epoch: 4 [26240/60000 (44%)]\tLoss: 0.218392\n",
            "Train Epoch: 4 [26880/60000 (45%)]\tLoss: 0.269406\n",
            "Train Epoch: 4 [27520/60000 (46%)]\tLoss: 0.201585\n",
            "Train Epoch: 4 [28160/60000 (47%)]\tLoss: 0.379059\n",
            "Train Epoch: 4 [28800/60000 (48%)]\tLoss: 0.271198\n",
            "Train Epoch: 4 [29440/60000 (49%)]\tLoss: 0.210753\n",
            "Train Epoch: 4 [30080/60000 (50%)]\tLoss: 0.246473\n",
            "Train Epoch: 4 [30720/60000 (51%)]\tLoss: 0.282680\n",
            "Train Epoch: 4 [31360/60000 (52%)]\tLoss: 0.138143\n",
            "Train Epoch: 4 [32000/60000 (53%)]\tLoss: 0.223420\n",
            "Train Epoch: 4 [32640/60000 (54%)]\tLoss: 0.274881\n",
            "Train Epoch: 4 [33280/60000 (55%)]\tLoss: 0.151360\n",
            "Train Epoch: 4 [33920/60000 (57%)]\tLoss: 0.409240\n",
            "Train Epoch: 4 [34560/60000 (58%)]\tLoss: 0.249745\n",
            "Train Epoch: 4 [35200/60000 (59%)]\tLoss: 0.188814\n",
            "Train Epoch: 4 [35840/60000 (60%)]\tLoss: 0.435557\n",
            "Train Epoch: 4 [36480/60000 (61%)]\tLoss: 0.271736\n",
            "Train Epoch: 4 [37120/60000 (62%)]\tLoss: 0.129513\n",
            "Train Epoch: 4 [37760/60000 (63%)]\tLoss: 0.188571\n",
            "Train Epoch: 4 [38400/60000 (64%)]\tLoss: 0.214677\n",
            "Train Epoch: 4 [39040/60000 (65%)]\tLoss: 0.277565\n",
            "Train Epoch: 4 [39680/60000 (66%)]\tLoss: 0.130261\n",
            "Train Epoch: 4 [40320/60000 (67%)]\tLoss: 0.391230\n",
            "Train Epoch: 4 [40960/60000 (68%)]\tLoss: 0.282936\n",
            "Train Epoch: 4 [41600/60000 (69%)]\tLoss: 0.104915\n",
            "Train Epoch: 4 [42240/60000 (70%)]\tLoss: 0.201319\n",
            "Train Epoch: 4 [42880/60000 (71%)]\tLoss: 0.234366\n",
            "Train Epoch: 4 [43520/60000 (72%)]\tLoss: 0.247980\n",
            "Train Epoch: 4 [44160/60000 (74%)]\tLoss: 0.286893\n",
            "Train Epoch: 4 [44800/60000 (75%)]\tLoss: 0.333135\n",
            "Train Epoch: 4 [45440/60000 (76%)]\tLoss: 0.138271\n",
            "Train Epoch: 4 [46080/60000 (77%)]\tLoss: 0.159180\n",
            "Train Epoch: 4 [46720/60000 (78%)]\tLoss: 0.241487\n",
            "Train Epoch: 4 [47360/60000 (79%)]\tLoss: 0.268851\n",
            "Train Epoch: 4 [48000/60000 (80%)]\tLoss: 0.554541\n",
            "Train Epoch: 4 [48640/60000 (81%)]\tLoss: 0.541546\n",
            "Train Epoch: 4 [49280/60000 (82%)]\tLoss: 0.176598\n",
            "Train Epoch: 4 [49920/60000 (83%)]\tLoss: 0.341167\n",
            "Train Epoch: 4 [50560/60000 (84%)]\tLoss: 0.203900\n",
            "Train Epoch: 4 [51200/60000 (85%)]\tLoss: 0.229721\n",
            "Train Epoch: 4 [51840/60000 (86%)]\tLoss: 0.197978\n",
            "Train Epoch: 4 [52480/60000 (87%)]\tLoss: 0.225327\n",
            "Train Epoch: 4 [53120/60000 (88%)]\tLoss: 0.204845\n",
            "Train Epoch: 4 [53760/60000 (90%)]\tLoss: 0.283512\n",
            "Train Epoch: 4 [54400/60000 (91%)]\tLoss: 0.295026\n",
            "Train Epoch: 4 [55040/60000 (92%)]\tLoss: 0.210859\n",
            "Train Epoch: 4 [55680/60000 (93%)]\tLoss: 0.355512\n",
            "Train Epoch: 4 [56320/60000 (94%)]\tLoss: 0.308707\n",
            "Train Epoch: 4 [56960/60000 (95%)]\tLoss: 0.159523\n",
            "Train Epoch: 4 [57600/60000 (96%)]\tLoss: 0.220312\n",
            "Train Epoch: 4 [58240/60000 (97%)]\tLoss: 0.181662\n",
            "Train Epoch: 4 [58880/60000 (98%)]\tLoss: 0.384227\n",
            "Train Epoch: 4 [59520/60000 (99%)]\tLoss: 0.259511\n"
          ]
        },
        {
          "output_type": "stream",
          "name": "stderr",
          "text": [
            "/usr/local/lib/python3.10/dist-packages/torch/nn/_reduction.py:42: UserWarning: size_average and reduce args will be deprecated, please use reduction='sum' instead.\n",
            "  warnings.warn(warning.format(ret))\n"
          ]
        },
        {
          "output_type": "stream",
          "name": "stdout",
          "text": [
            "\n",
            "Test set: Avg. loss: 0.0848, Accuracy: 9731/10000 (97%)\n",
            "\n",
            "Train Epoch: 5 [0/60000 (0%)]\tLoss: 0.322689\n",
            "Train Epoch: 5 [640/60000 (1%)]\tLoss: 0.233113\n",
            "Train Epoch: 5 [1280/60000 (2%)]\tLoss: 0.425403\n",
            "Train Epoch: 5 [1920/60000 (3%)]\tLoss: 0.349491\n",
            "Train Epoch: 5 [2560/60000 (4%)]\tLoss: 0.207980\n",
            "Train Epoch: 5 [3200/60000 (5%)]\tLoss: 0.230060\n",
            "Train Epoch: 5 [3840/60000 (6%)]\tLoss: 0.254407\n",
            "Train Epoch: 5 [4480/60000 (7%)]\tLoss: 0.211882\n",
            "Train Epoch: 5 [5120/60000 (9%)]\tLoss: 0.203710\n",
            "Train Epoch: 5 [5760/60000 (10%)]\tLoss: 0.184485\n",
            "Train Epoch: 5 [6400/60000 (11%)]\tLoss: 0.318933\n",
            "Train Epoch: 5 [7040/60000 (12%)]\tLoss: 0.200464\n",
            "Train Epoch: 5 [7680/60000 (13%)]\tLoss: 0.204525\n",
            "Train Epoch: 5 [8320/60000 (14%)]\tLoss: 0.212064\n",
            "Train Epoch: 5 [8960/60000 (15%)]\tLoss: 0.220554\n",
            "Train Epoch: 5 [9600/60000 (16%)]\tLoss: 0.418277\n",
            "Train Epoch: 5 [10240/60000 (17%)]\tLoss: 0.215217\n",
            "Train Epoch: 5 [10880/60000 (18%)]\tLoss: 0.431916\n",
            "Train Epoch: 5 [11520/60000 (19%)]\tLoss: 0.220421\n",
            "Train Epoch: 5 [12160/60000 (20%)]\tLoss: 0.365978\n",
            "Train Epoch: 5 [12800/60000 (21%)]\tLoss: 0.178830\n",
            "Train Epoch: 5 [13440/60000 (22%)]\tLoss: 0.201862\n",
            "Train Epoch: 5 [14080/60000 (23%)]\tLoss: 0.263267\n",
            "Train Epoch: 5 [14720/60000 (25%)]\tLoss: 0.276285\n",
            "Train Epoch: 5 [15360/60000 (26%)]\tLoss: 0.152151\n",
            "Train Epoch: 5 [16000/60000 (27%)]\tLoss: 0.281728\n",
            "Train Epoch: 5 [16640/60000 (28%)]\tLoss: 0.254949\n",
            "Train Epoch: 5 [17280/60000 (29%)]\tLoss: 0.169852\n",
            "Train Epoch: 5 [17920/60000 (30%)]\tLoss: 0.229676\n",
            "Train Epoch: 5 [18560/60000 (31%)]\tLoss: 0.145757\n",
            "Train Epoch: 5 [19200/60000 (32%)]\tLoss: 0.228135\n",
            "Train Epoch: 5 [19840/60000 (33%)]\tLoss: 0.240237\n",
            "Train Epoch: 5 [20480/60000 (34%)]\tLoss: 0.214419\n",
            "Train Epoch: 5 [21120/60000 (35%)]\tLoss: 0.257667\n",
            "Train Epoch: 5 [21760/60000 (36%)]\tLoss: 0.227250\n",
            "Train Epoch: 5 [22400/60000 (37%)]\tLoss: 0.144494\n",
            "Train Epoch: 5 [23040/60000 (38%)]\tLoss: 0.136589\n",
            "Train Epoch: 5 [23680/60000 (39%)]\tLoss: 0.219853\n",
            "Train Epoch: 5 [24320/60000 (41%)]\tLoss: 0.067905\n",
            "Train Epoch: 5 [24960/60000 (42%)]\tLoss: 0.328528\n",
            "Train Epoch: 5 [25600/60000 (43%)]\tLoss: 0.079428\n",
            "Train Epoch: 5 [26240/60000 (44%)]\tLoss: 0.233296\n",
            "Train Epoch: 5 [26880/60000 (45%)]\tLoss: 0.285115\n",
            "Train Epoch: 5 [27520/60000 (46%)]\tLoss: 0.197892\n",
            "Train Epoch: 5 [28160/60000 (47%)]\tLoss: 0.142148\n",
            "Train Epoch: 5 [28800/60000 (48%)]\tLoss: 0.323759\n",
            "Train Epoch: 5 [29440/60000 (49%)]\tLoss: 0.145017\n",
            "Train Epoch: 5 [30080/60000 (50%)]\tLoss: 0.161123\n",
            "Train Epoch: 5 [30720/60000 (51%)]\tLoss: 0.254614\n",
            "Train Epoch: 5 [31360/60000 (52%)]\tLoss: 0.554744\n",
            "Train Epoch: 5 [32000/60000 (53%)]\tLoss: 0.378531\n",
            "Train Epoch: 5 [32640/60000 (54%)]\tLoss: 0.309414\n",
            "Train Epoch: 5 [33280/60000 (55%)]\tLoss: 0.167925\n",
            "Train Epoch: 5 [33920/60000 (57%)]\tLoss: 0.300604\n",
            "Train Epoch: 5 [34560/60000 (58%)]\tLoss: 0.173899\n",
            "Train Epoch: 5 [35200/60000 (59%)]\tLoss: 0.167215\n",
            "Train Epoch: 5 [35840/60000 (60%)]\tLoss: 0.249258\n",
            "Train Epoch: 5 [36480/60000 (61%)]\tLoss: 0.181996\n",
            "Train Epoch: 5 [37120/60000 (62%)]\tLoss: 0.110246\n",
            "Train Epoch: 5 [37760/60000 (63%)]\tLoss: 0.151092\n",
            "Train Epoch: 5 [38400/60000 (64%)]\tLoss: 0.349746\n",
            "Train Epoch: 5 [39040/60000 (65%)]\tLoss: 0.329042\n",
            "Train Epoch: 5 [39680/60000 (66%)]\tLoss: 0.218264\n",
            "Train Epoch: 5 [40320/60000 (67%)]\tLoss: 0.226673\n",
            "Train Epoch: 5 [40960/60000 (68%)]\tLoss: 0.152246\n",
            "Train Epoch: 5 [41600/60000 (69%)]\tLoss: 0.191823\n",
            "Train Epoch: 5 [42240/60000 (70%)]\tLoss: 0.413898\n",
            "Train Epoch: 5 [42880/60000 (71%)]\tLoss: 0.317465\n",
            "Train Epoch: 5 [43520/60000 (72%)]\tLoss: 0.225668\n",
            "Train Epoch: 5 [44160/60000 (74%)]\tLoss: 0.105584\n",
            "Train Epoch: 5 [44800/60000 (75%)]\tLoss: 0.442862\n",
            "Train Epoch: 5 [45440/60000 (76%)]\tLoss: 0.241977\n",
            "Train Epoch: 5 [46080/60000 (77%)]\tLoss: 0.150840\n",
            "Train Epoch: 5 [46720/60000 (78%)]\tLoss: 0.458084\n",
            "Train Epoch: 5 [47360/60000 (79%)]\tLoss: 0.293491\n",
            "Train Epoch: 5 [48000/60000 (80%)]\tLoss: 0.291439\n",
            "Train Epoch: 5 [48640/60000 (81%)]\tLoss: 0.292957\n",
            "Train Epoch: 5 [49280/60000 (82%)]\tLoss: 0.267756\n",
            "Train Epoch: 5 [49920/60000 (83%)]\tLoss: 0.345943\n",
            "Train Epoch: 5 [50560/60000 (84%)]\tLoss: 0.067389\n",
            "Train Epoch: 5 [51200/60000 (85%)]\tLoss: 0.292909\n",
            "Train Epoch: 5 [51840/60000 (86%)]\tLoss: 0.358807\n",
            "Train Epoch: 5 [52480/60000 (87%)]\tLoss: 0.336207\n",
            "Train Epoch: 5 [53120/60000 (88%)]\tLoss: 0.106063\n",
            "Train Epoch: 5 [53760/60000 (90%)]\tLoss: 0.088009\n",
            "Train Epoch: 5 [54400/60000 (91%)]\tLoss: 0.197645\n",
            "Train Epoch: 5 [55040/60000 (92%)]\tLoss: 0.225422\n",
            "Train Epoch: 5 [55680/60000 (93%)]\tLoss: 0.213476\n",
            "Train Epoch: 5 [56320/60000 (94%)]\tLoss: 0.118109\n",
            "Train Epoch: 5 [56960/60000 (95%)]\tLoss: 0.333258\n",
            "Train Epoch: 5 [57600/60000 (96%)]\tLoss: 0.372634\n",
            "Train Epoch: 5 [58240/60000 (97%)]\tLoss: 0.255328\n",
            "Train Epoch: 5 [58880/60000 (98%)]\tLoss: 0.103490\n",
            "Train Epoch: 5 [59520/60000 (99%)]\tLoss: 0.286579\n",
            "\n",
            "Test set: Avg. loss: 0.0751, Accuracy: 9764/10000 (98%)\n",
            "\n",
            "Train Epoch: 6 [0/60000 (0%)]\tLoss: 0.136003\n",
            "Train Epoch: 6 [640/60000 (1%)]\tLoss: 0.171971\n",
            "Train Epoch: 6 [1280/60000 (2%)]\tLoss: 0.326713\n",
            "Train Epoch: 6 [1920/60000 (3%)]\tLoss: 0.198245\n",
            "Train Epoch: 6 [2560/60000 (4%)]\tLoss: 0.108648\n",
            "Train Epoch: 6 [3200/60000 (5%)]\tLoss: 0.234816\n",
            "Train Epoch: 6 [3840/60000 (6%)]\tLoss: 0.172897\n",
            "Train Epoch: 6 [4480/60000 (7%)]\tLoss: 0.218708\n",
            "Train Epoch: 6 [5120/60000 (9%)]\tLoss: 0.133940\n",
            "Train Epoch: 6 [5760/60000 (10%)]\tLoss: 0.093404\n",
            "Train Epoch: 6 [6400/60000 (11%)]\tLoss: 0.335101\n",
            "Train Epoch: 6 [7040/60000 (12%)]\tLoss: 0.090942\n",
            "Train Epoch: 6 [7680/60000 (13%)]\tLoss: 0.140396\n",
            "Train Epoch: 6 [8320/60000 (14%)]\tLoss: 0.177913\n",
            "Train Epoch: 6 [8960/60000 (15%)]\tLoss: 0.166368\n",
            "Train Epoch: 6 [9600/60000 (16%)]\tLoss: 0.237535\n",
            "Train Epoch: 6 [10240/60000 (17%)]\tLoss: 0.291161\n",
            "Train Epoch: 6 [10880/60000 (18%)]\tLoss: 0.344857\n",
            "Train Epoch: 6 [11520/60000 (19%)]\tLoss: 0.366172\n",
            "Train Epoch: 6 [12160/60000 (20%)]\tLoss: 0.158275\n",
            "Train Epoch: 6 [12800/60000 (21%)]\tLoss: 0.142902\n",
            "Train Epoch: 6 [13440/60000 (22%)]\tLoss: 0.124739\n",
            "Train Epoch: 6 [14080/60000 (23%)]\tLoss: 0.215672\n",
            "Train Epoch: 6 [14720/60000 (25%)]\tLoss: 0.191486\n",
            "Train Epoch: 6 [15360/60000 (26%)]\tLoss: 0.237811\n",
            "Train Epoch: 6 [16000/60000 (27%)]\tLoss: 0.110355\n",
            "Train Epoch: 6 [16640/60000 (28%)]\tLoss: 0.264152\n",
            "Train Epoch: 6 [17280/60000 (29%)]\tLoss: 0.287738\n",
            "Train Epoch: 6 [17920/60000 (30%)]\tLoss: 0.173362\n",
            "Train Epoch: 6 [18560/60000 (31%)]\tLoss: 0.174978\n",
            "Train Epoch: 6 [19200/60000 (32%)]\tLoss: 0.364318\n",
            "Train Epoch: 6 [19840/60000 (33%)]\tLoss: 0.201925\n",
            "Train Epoch: 6 [20480/60000 (34%)]\tLoss: 0.093659\n",
            "Train Epoch: 6 [21120/60000 (35%)]\tLoss: 0.329447\n",
            "Train Epoch: 6 [21760/60000 (36%)]\tLoss: 0.421384\n",
            "Train Epoch: 6 [22400/60000 (37%)]\tLoss: 0.305426\n",
            "Train Epoch: 6 [23040/60000 (38%)]\tLoss: 0.164044\n",
            "Train Epoch: 6 [23680/60000 (39%)]\tLoss: 0.222544\n",
            "Train Epoch: 6 [24320/60000 (41%)]\tLoss: 0.295964\n",
            "Train Epoch: 6 [24960/60000 (42%)]\tLoss: 0.074257\n",
            "Train Epoch: 6 [25600/60000 (43%)]\tLoss: 0.253939\n",
            "Train Epoch: 6 [26240/60000 (44%)]\tLoss: 0.141627\n",
            "Train Epoch: 6 [26880/60000 (45%)]\tLoss: 0.364712\n",
            "Train Epoch: 6 [27520/60000 (46%)]\tLoss: 0.372938\n",
            "Train Epoch: 6 [28160/60000 (47%)]\tLoss: 0.300441\n",
            "Train Epoch: 6 [28800/60000 (48%)]\tLoss: 0.282055\n",
            "Train Epoch: 6 [29440/60000 (49%)]\tLoss: 0.119238\n",
            "Train Epoch: 6 [30080/60000 (50%)]\tLoss: 0.152192\n",
            "Train Epoch: 6 [30720/60000 (51%)]\tLoss: 0.212169\n",
            "Train Epoch: 6 [31360/60000 (52%)]\tLoss: 0.275293\n",
            "Train Epoch: 6 [32000/60000 (53%)]\tLoss: 0.221374\n",
            "Train Epoch: 6 [32640/60000 (54%)]\tLoss: 0.212756\n",
            "Train Epoch: 6 [33280/60000 (55%)]\tLoss: 0.278483\n",
            "Train Epoch: 6 [33920/60000 (57%)]\tLoss: 0.300175\n",
            "Train Epoch: 6 [34560/60000 (58%)]\tLoss: 0.276954\n",
            "Train Epoch: 6 [35200/60000 (59%)]\tLoss: 0.206482\n",
            "Train Epoch: 6 [35840/60000 (60%)]\tLoss: 0.140772\n",
            "Train Epoch: 6 [36480/60000 (61%)]\tLoss: 0.173655\n",
            "Train Epoch: 6 [37120/60000 (62%)]\tLoss: 0.138553\n",
            "Train Epoch: 6 [37760/60000 (63%)]\tLoss: 0.239573\n",
            "Train Epoch: 6 [38400/60000 (64%)]\tLoss: 0.133477\n",
            "Train Epoch: 6 [39040/60000 (65%)]\tLoss: 0.102902\n",
            "Train Epoch: 6 [39680/60000 (66%)]\tLoss: 0.193611\n",
            "Train Epoch: 6 [40320/60000 (67%)]\tLoss: 0.114989\n",
            "Train Epoch: 6 [40960/60000 (68%)]\tLoss: 0.260204\n",
            "Train Epoch: 6 [41600/60000 (69%)]\tLoss: 0.150131\n",
            "Train Epoch: 6 [42240/60000 (70%)]\tLoss: 0.149886\n",
            "Train Epoch: 6 [42880/60000 (71%)]\tLoss: 0.157006\n",
            "Train Epoch: 6 [43520/60000 (72%)]\tLoss: 0.178304\n",
            "Train Epoch: 6 [44160/60000 (74%)]\tLoss: 0.179924\n",
            "Train Epoch: 6 [44800/60000 (75%)]\tLoss: 0.192244\n",
            "Train Epoch: 6 [45440/60000 (76%)]\tLoss: 0.212084\n",
            "Train Epoch: 6 [46080/60000 (77%)]\tLoss: 0.152558\n",
            "Train Epoch: 6 [46720/60000 (78%)]\tLoss: 0.204489\n",
            "Train Epoch: 6 [47360/60000 (79%)]\tLoss: 0.202298\n",
            "Train Epoch: 6 [48000/60000 (80%)]\tLoss: 0.170051\n",
            "Train Epoch: 6 [48640/60000 (81%)]\tLoss: 0.124910\n",
            "Train Epoch: 6 [49280/60000 (82%)]\tLoss: 0.154846\n",
            "Train Epoch: 6 [49920/60000 (83%)]\tLoss: 0.276816\n",
            "Train Epoch: 6 [50560/60000 (84%)]\tLoss: 0.121058\n",
            "Train Epoch: 6 [51200/60000 (85%)]\tLoss: 0.129662\n",
            "Train Epoch: 6 [51840/60000 (86%)]\tLoss: 0.150711\n",
            "Train Epoch: 6 [52480/60000 (87%)]\tLoss: 0.389069\n",
            "Train Epoch: 6 [53120/60000 (88%)]\tLoss: 0.228083\n",
            "Train Epoch: 6 [53760/60000 (90%)]\tLoss: 0.215114\n",
            "Train Epoch: 6 [54400/60000 (91%)]\tLoss: 0.131226\n",
            "Train Epoch: 6 [55040/60000 (92%)]\tLoss: 0.277173\n",
            "Train Epoch: 6 [55680/60000 (93%)]\tLoss: 0.310461\n",
            "Train Epoch: 6 [56320/60000 (94%)]\tLoss: 0.219191\n",
            "Train Epoch: 6 [56960/60000 (95%)]\tLoss: 0.462583\n",
            "Train Epoch: 6 [57600/60000 (96%)]\tLoss: 0.191032\n",
            "Train Epoch: 6 [58240/60000 (97%)]\tLoss: 0.188020\n",
            "Train Epoch: 6 [58880/60000 (98%)]\tLoss: 0.136266\n",
            "Train Epoch: 6 [59520/60000 (99%)]\tLoss: 0.159015\n",
            "\n",
            "Test set: Avg. loss: 0.0689, Accuracy: 9781/10000 (98%)\n",
            "\n",
            "Train Epoch: 7 [0/60000 (0%)]\tLoss: 0.212231\n",
            "Train Epoch: 7 [640/60000 (1%)]\tLoss: 0.225125\n",
            "Train Epoch: 7 [1280/60000 (2%)]\tLoss: 0.407061\n",
            "Train Epoch: 7 [1920/60000 (3%)]\tLoss: 0.083622\n",
            "Train Epoch: 7 [2560/60000 (4%)]\tLoss: 0.135254\n",
            "Train Epoch: 7 [3200/60000 (5%)]\tLoss: 0.108445\n",
            "Train Epoch: 7 [3840/60000 (6%)]\tLoss: 0.165883\n",
            "Train Epoch: 7 [4480/60000 (7%)]\tLoss: 0.216256\n",
            "Train Epoch: 7 [5120/60000 (9%)]\tLoss: 0.308127\n",
            "Train Epoch: 7 [5760/60000 (10%)]\tLoss: 0.137881\n",
            "Train Epoch: 7 [6400/60000 (11%)]\tLoss: 0.129139\n",
            "Train Epoch: 7 [7040/60000 (12%)]\tLoss: 0.262248\n",
            "Train Epoch: 7 [7680/60000 (13%)]\tLoss: 0.185467\n",
            "Train Epoch: 7 [8320/60000 (14%)]\tLoss: 0.184702\n",
            "Train Epoch: 7 [8960/60000 (15%)]\tLoss: 0.121749\n",
            "Train Epoch: 7 [9600/60000 (16%)]\tLoss: 0.228868\n",
            "Train Epoch: 7 [10240/60000 (17%)]\tLoss: 0.249844\n",
            "Train Epoch: 7 [10880/60000 (18%)]\tLoss: 0.375327\n",
            "Train Epoch: 7 [11520/60000 (19%)]\tLoss: 0.257811\n",
            "Train Epoch: 7 [12160/60000 (20%)]\tLoss: 0.139811\n",
            "Train Epoch: 7 [12800/60000 (21%)]\tLoss: 0.227132\n",
            "Train Epoch: 7 [13440/60000 (22%)]\tLoss: 0.126979\n",
            "Train Epoch: 7 [14080/60000 (23%)]\tLoss: 0.188549\n",
            "Train Epoch: 7 [14720/60000 (25%)]\tLoss: 0.414407\n",
            "Train Epoch: 7 [15360/60000 (26%)]\tLoss: 0.326662\n",
            "Train Epoch: 7 [16000/60000 (27%)]\tLoss: 0.126705\n",
            "Train Epoch: 7 [16640/60000 (28%)]\tLoss: 0.241931\n",
            "Train Epoch: 7 [17280/60000 (29%)]\tLoss: 0.209892\n",
            "Train Epoch: 7 [17920/60000 (30%)]\tLoss: 0.142124\n",
            "Train Epoch: 7 [18560/60000 (31%)]\tLoss: 0.257090\n",
            "Train Epoch: 7 [19200/60000 (32%)]\tLoss: 0.164104\n",
            "Train Epoch: 7 [19840/60000 (33%)]\tLoss: 0.044419\n",
            "Train Epoch: 7 [20480/60000 (34%)]\tLoss: 0.121789\n",
            "Train Epoch: 7 [21120/60000 (35%)]\tLoss: 0.318538\n",
            "Train Epoch: 7 [21760/60000 (36%)]\tLoss: 0.129077\n",
            "Train Epoch: 7 [22400/60000 (37%)]\tLoss: 0.125502\n",
            "Train Epoch: 7 [23040/60000 (38%)]\tLoss: 0.176490\n",
            "Train Epoch: 7 [23680/60000 (39%)]\tLoss: 0.264672\n",
            "Train Epoch: 7 [24320/60000 (41%)]\tLoss: 0.163311\n",
            "Train Epoch: 7 [24960/60000 (42%)]\tLoss: 0.243658\n",
            "Train Epoch: 7 [25600/60000 (43%)]\tLoss: 0.237742\n",
            "Train Epoch: 7 [26240/60000 (44%)]\tLoss: 0.109318\n",
            "Train Epoch: 7 [26880/60000 (45%)]\tLoss: 0.225083\n",
            "Train Epoch: 7 [27520/60000 (46%)]\tLoss: 0.194231\n",
            "Train Epoch: 7 [28160/60000 (47%)]\tLoss: 0.325597\n",
            "Train Epoch: 7 [28800/60000 (48%)]\tLoss: 0.241258\n",
            "Train Epoch: 7 [29440/60000 (49%)]\tLoss: 0.209591\n",
            "Train Epoch: 7 [30080/60000 (50%)]\tLoss: 0.026364\n",
            "Train Epoch: 7 [30720/60000 (51%)]\tLoss: 0.186928\n",
            "Train Epoch: 7 [31360/60000 (52%)]\tLoss: 0.224606\n",
            "Train Epoch: 7 [32000/60000 (53%)]\tLoss: 0.281514\n",
            "Train Epoch: 7 [32640/60000 (54%)]\tLoss: 0.208463\n",
            "Train Epoch: 7 [33280/60000 (55%)]\tLoss: 0.190773\n",
            "Train Epoch: 7 [33920/60000 (57%)]\tLoss: 0.184566\n",
            "Train Epoch: 7 [34560/60000 (58%)]\tLoss: 0.262983\n",
            "Train Epoch: 7 [35200/60000 (59%)]\tLoss: 0.108795\n",
            "Train Epoch: 7 [35840/60000 (60%)]\tLoss: 0.085040\n",
            "Train Epoch: 7 [36480/60000 (61%)]\tLoss: 0.108928\n",
            "Train Epoch: 7 [37120/60000 (62%)]\tLoss: 0.179271\n",
            "Train Epoch: 7 [37760/60000 (63%)]\tLoss: 0.122943\n",
            "Train Epoch: 7 [38400/60000 (64%)]\tLoss: 0.233553\n",
            "Train Epoch: 7 [39040/60000 (65%)]\tLoss: 0.063709\n",
            "Train Epoch: 7 [39680/60000 (66%)]\tLoss: 0.258390\n",
            "Train Epoch: 7 [40320/60000 (67%)]\tLoss: 0.229904\n",
            "Train Epoch: 7 [40960/60000 (68%)]\tLoss: 0.360585\n",
            "Train Epoch: 7 [41600/60000 (69%)]\tLoss: 0.096416\n",
            "Train Epoch: 7 [42240/60000 (70%)]\tLoss: 0.280936\n",
            "Train Epoch: 7 [42880/60000 (71%)]\tLoss: 0.151821\n",
            "Train Epoch: 7 [43520/60000 (72%)]\tLoss: 0.120076\n",
            "Train Epoch: 7 [44160/60000 (74%)]\tLoss: 0.330464\n",
            "Train Epoch: 7 [44800/60000 (75%)]\tLoss: 0.189153\n",
            "Train Epoch: 7 [45440/60000 (76%)]\tLoss: 0.295963\n",
            "Train Epoch: 7 [46080/60000 (77%)]\tLoss: 0.258365\n",
            "Train Epoch: 7 [46720/60000 (78%)]\tLoss: 0.148999\n",
            "Train Epoch: 7 [47360/60000 (79%)]\tLoss: 0.121725\n",
            "Train Epoch: 7 [48000/60000 (80%)]\tLoss: 0.154464\n",
            "Train Epoch: 7 [48640/60000 (81%)]\tLoss: 0.286449\n",
            "Train Epoch: 7 [49280/60000 (82%)]\tLoss: 0.077815\n",
            "Train Epoch: 7 [49920/60000 (83%)]\tLoss: 0.063835\n",
            "Train Epoch: 7 [50560/60000 (84%)]\tLoss: 0.103056\n",
            "Train Epoch: 7 [51200/60000 (85%)]\tLoss: 0.179099\n",
            "Train Epoch: 7 [51840/60000 (86%)]\tLoss: 0.232864\n",
            "Train Epoch: 7 [52480/60000 (87%)]\tLoss: 0.695746\n",
            "Train Epoch: 7 [53120/60000 (88%)]\tLoss: 0.083048\n",
            "Train Epoch: 7 [53760/60000 (90%)]\tLoss: 0.236056\n",
            "Train Epoch: 7 [54400/60000 (91%)]\tLoss: 0.177302\n",
            "Train Epoch: 7 [55040/60000 (92%)]\tLoss: 0.189140\n",
            "Train Epoch: 7 [55680/60000 (93%)]\tLoss: 0.206783\n",
            "Train Epoch: 7 [56320/60000 (94%)]\tLoss: 0.263313\n",
            "Train Epoch: 7 [56960/60000 (95%)]\tLoss: 0.099343\n",
            "Train Epoch: 7 [57600/60000 (96%)]\tLoss: 0.201712\n",
            "Train Epoch: 7 [58240/60000 (97%)]\tLoss: 0.156356\n",
            "Train Epoch: 7 [58880/60000 (98%)]\tLoss: 0.190228\n",
            "Train Epoch: 7 [59520/60000 (99%)]\tLoss: 0.226075\n",
            "\n",
            "Test set: Avg. loss: 0.0669, Accuracy: 9791/10000 (98%)\n",
            "\n",
            "Train Epoch: 8 [0/60000 (0%)]\tLoss: 0.172370\n",
            "Train Epoch: 8 [640/60000 (1%)]\tLoss: 0.384079\n",
            "Train Epoch: 8 [1280/60000 (2%)]\tLoss: 0.295741\n",
            "Train Epoch: 8 [1920/60000 (3%)]\tLoss: 0.105514\n",
            "Train Epoch: 8 [2560/60000 (4%)]\tLoss: 0.219407\n",
            "Train Epoch: 8 [3200/60000 (5%)]\tLoss: 0.162052\n",
            "Train Epoch: 8 [3840/60000 (6%)]\tLoss: 0.266281\n",
            "Train Epoch: 8 [4480/60000 (7%)]\tLoss: 0.289330\n",
            "Train Epoch: 8 [5120/60000 (9%)]\tLoss: 0.154731\n",
            "Train Epoch: 8 [5760/60000 (10%)]\tLoss: 0.212944\n",
            "Train Epoch: 8 [6400/60000 (11%)]\tLoss: 0.205230\n",
            "Train Epoch: 8 [7040/60000 (12%)]\tLoss: 0.287622\n",
            "Train Epoch: 8 [7680/60000 (13%)]\tLoss: 0.264891\n",
            "Train Epoch: 8 [8320/60000 (14%)]\tLoss: 0.264265\n",
            "Train Epoch: 8 [8960/60000 (15%)]\tLoss: 0.137633\n",
            "Train Epoch: 8 [9600/60000 (16%)]\tLoss: 0.113852\n",
            "Train Epoch: 8 [10240/60000 (17%)]\tLoss: 0.186742\n",
            "Train Epoch: 8 [10880/60000 (18%)]\tLoss: 0.153962\n",
            "Train Epoch: 8 [11520/60000 (19%)]\tLoss: 0.217756\n",
            "Train Epoch: 8 [12160/60000 (20%)]\tLoss: 0.146125\n",
            "Train Epoch: 8 [12800/60000 (21%)]\tLoss: 0.127318\n",
            "Train Epoch: 8 [13440/60000 (22%)]\tLoss: 0.096681\n",
            "Train Epoch: 8 [14080/60000 (23%)]\tLoss: 0.264384\n",
            "Train Epoch: 8 [14720/60000 (25%)]\tLoss: 0.292847\n",
            "Train Epoch: 8 [15360/60000 (26%)]\tLoss: 0.134626\n",
            "Train Epoch: 8 [16000/60000 (27%)]\tLoss: 0.139473\n",
            "Train Epoch: 8 [16640/60000 (28%)]\tLoss: 0.132434\n",
            "Train Epoch: 8 [17280/60000 (29%)]\tLoss: 0.061933\n",
            "Train Epoch: 8 [17920/60000 (30%)]\tLoss: 0.108109\n",
            "Train Epoch: 8 [18560/60000 (31%)]\tLoss: 0.102424\n",
            "Train Epoch: 8 [19200/60000 (32%)]\tLoss: 0.219718\n",
            "Train Epoch: 8 [19840/60000 (33%)]\tLoss: 0.128674\n",
            "Train Epoch: 8 [20480/60000 (34%)]\tLoss: 0.113793\n",
            "Train Epoch: 8 [21120/60000 (35%)]\tLoss: 0.186087\n",
            "Train Epoch: 8 [21760/60000 (36%)]\tLoss: 0.178688\n",
            "Train Epoch: 8 [22400/60000 (37%)]\tLoss: 0.127046\n",
            "Train Epoch: 8 [23040/60000 (38%)]\tLoss: 0.224096\n",
            "Train Epoch: 8 [23680/60000 (39%)]\tLoss: 0.095665\n",
            "Train Epoch: 8 [24320/60000 (41%)]\tLoss: 0.045084\n",
            "Train Epoch: 8 [24960/60000 (42%)]\tLoss: 0.215172\n",
            "Train Epoch: 8 [25600/60000 (43%)]\tLoss: 0.184347\n",
            "Train Epoch: 8 [26240/60000 (44%)]\tLoss: 0.304933\n",
            "Train Epoch: 8 [26880/60000 (45%)]\tLoss: 0.123750\n",
            "Train Epoch: 8 [27520/60000 (46%)]\tLoss: 0.147944\n",
            "Train Epoch: 8 [28160/60000 (47%)]\tLoss: 0.126948\n",
            "Train Epoch: 8 [28800/60000 (48%)]\tLoss: 0.110034\n",
            "Train Epoch: 8 [29440/60000 (49%)]\tLoss: 0.118895\n",
            "Train Epoch: 8 [30080/60000 (50%)]\tLoss: 0.122473\n",
            "Train Epoch: 8 [30720/60000 (51%)]\tLoss: 0.084097\n",
            "Train Epoch: 8 [31360/60000 (52%)]\tLoss: 0.118572\n",
            "Train Epoch: 8 [32000/60000 (53%)]\tLoss: 0.180178\n",
            "Train Epoch: 8 [32640/60000 (54%)]\tLoss: 0.134167\n",
            "Train Epoch: 8 [33280/60000 (55%)]\tLoss: 0.248879\n",
            "Train Epoch: 8 [33920/60000 (57%)]\tLoss: 0.243362\n",
            "Train Epoch: 8 [34560/60000 (58%)]\tLoss: 0.181666\n",
            "Train Epoch: 8 [35200/60000 (59%)]\tLoss: 0.265907\n",
            "Train Epoch: 8 [35840/60000 (60%)]\tLoss: 0.468506\n",
            "Train Epoch: 8 [36480/60000 (61%)]\tLoss: 0.105817\n",
            "Train Epoch: 8 [37120/60000 (62%)]\tLoss: 0.274545\n",
            "Train Epoch: 8 [37760/60000 (63%)]\tLoss: 0.332568\n",
            "Train Epoch: 8 [38400/60000 (64%)]\tLoss: 0.173615\n",
            "Train Epoch: 8 [39040/60000 (65%)]\tLoss: 0.156251\n",
            "Train Epoch: 8 [39680/60000 (66%)]\tLoss: 0.171439\n",
            "Train Epoch: 8 [40320/60000 (67%)]\tLoss: 0.492884\n",
            "Train Epoch: 8 [40960/60000 (68%)]\tLoss: 0.106691\n",
            "Train Epoch: 8 [41600/60000 (69%)]\tLoss: 0.160370\n",
            "Train Epoch: 8 [42240/60000 (70%)]\tLoss: 0.204235\n",
            "Train Epoch: 8 [42880/60000 (71%)]\tLoss: 0.242735\n",
            "Train Epoch: 8 [43520/60000 (72%)]\tLoss: 0.290332\n",
            "Train Epoch: 8 [44160/60000 (74%)]\tLoss: 0.136608\n",
            "Train Epoch: 8 [44800/60000 (75%)]\tLoss: 0.358808\n",
            "Train Epoch: 8 [45440/60000 (76%)]\tLoss: 0.169660\n",
            "Train Epoch: 8 [46080/60000 (77%)]\tLoss: 0.065687\n",
            "Train Epoch: 8 [46720/60000 (78%)]\tLoss: 0.079150\n",
            "Train Epoch: 8 [47360/60000 (79%)]\tLoss: 0.126961\n",
            "Train Epoch: 8 [48000/60000 (80%)]\tLoss: 0.130415\n",
            "Train Epoch: 8 [48640/60000 (81%)]\tLoss: 0.079151\n",
            "Train Epoch: 8 [49280/60000 (82%)]\tLoss: 0.061354\n",
            "Train Epoch: 8 [49920/60000 (83%)]\tLoss: 0.089050\n",
            "Train Epoch: 8 [50560/60000 (84%)]\tLoss: 0.152001\n",
            "Train Epoch: 8 [51200/60000 (85%)]\tLoss: 0.108269\n",
            "Train Epoch: 8 [51840/60000 (86%)]\tLoss: 0.356361\n",
            "Train Epoch: 8 [52480/60000 (87%)]\tLoss: 0.248298\n",
            "Train Epoch: 8 [53120/60000 (88%)]\tLoss: 0.234810\n",
            "Train Epoch: 8 [53760/60000 (90%)]\tLoss: 0.136377\n",
            "Train Epoch: 8 [54400/60000 (91%)]\tLoss: 0.295969\n",
            "Train Epoch: 8 [55040/60000 (92%)]\tLoss: 0.205648\n",
            "Train Epoch: 8 [55680/60000 (93%)]\tLoss: 0.313198\n",
            "Train Epoch: 8 [56320/60000 (94%)]\tLoss: 0.124185\n",
            "Train Epoch: 8 [56960/60000 (95%)]\tLoss: 0.128602\n",
            "Train Epoch: 8 [57600/60000 (96%)]\tLoss: 0.137791\n",
            "Train Epoch: 8 [58240/60000 (97%)]\tLoss: 0.146869\n",
            "Train Epoch: 8 [58880/60000 (98%)]\tLoss: 0.159659\n",
            "Train Epoch: 8 [59520/60000 (99%)]\tLoss: 0.405669\n",
            "\n",
            "Test set: Avg. loss: 0.0586, Accuracy: 9820/10000 (98%)\n",
            "\n"
          ]
        }
      ]
    },
    {
      "cell_type": "code",
      "source": [
        "print(len(test_counter))\n",
        "print(len(test_losses))"
      ],
      "metadata": {
        "colab": {
          "base_uri": "https://localhost:8080/"
        },
        "id": "-Ylnc_5nFiIp",
        "outputId": "80a9bc44-5602-4d2c-879a-df7376160d86"
      },
      "execution_count": 67,
      "outputs": [
        {
          "output_type": "stream",
          "name": "stdout",
          "text": [
            "9\n",
            "9\n"
          ]
        }
      ]
    },
    {
      "cell_type": "code",
      "source": [
        "plt.plot(train_counter, train_losses, color='blue')\n",
        "plt.plot(test_counter, test_losses, color='red')\n",
        "plt.scatter(test_counter, test_losses, color='red')\n",
        "plt.legend(['Train Loss', 'Test Loss'], loc='upper right')\n",
        "plt.xlabel('number of training examples seen')\n",
        "plt.ylabel('negative log likelihood loss')"
      ],
      "metadata": {
        "colab": {
          "base_uri": "https://localhost:8080/",
          "height": 466
        },
        "id": "crI4Ee0wD_JT",
        "outputId": "2bfbc77f-5e25-4dd1-9949-51cb5a730a97"
      },
      "execution_count": 70,
      "outputs": [
        {
          "output_type": "execute_result",
          "data": {
            "text/plain": [
              "Text(0, 0.5, 'negative log likelihood loss')"
            ]
          },
          "metadata": {},
          "execution_count": 70
        },
        {
          "output_type": "display_data",
          "data": {
            "text/plain": [
              "<Figure size 640x480 with 1 Axes>"
            ],
            "image/png": "[encoded data removed]"
          },
          "metadata": {}
        }
      ]
    }
  ]
}