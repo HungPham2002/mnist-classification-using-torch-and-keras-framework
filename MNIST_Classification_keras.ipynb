{
  "nbformat": 4,
  "nbformat_minor": 0,
  "metadata": {
    "colab": {
      "provenance": [],
      "gpuType": "T4",
      "authorship_tag": "ABX9TyNLgzSj2FUfgqZgSqlpfLY0",
      "include_colab_link": true
    },
    "kernelspec": {
      "name": "python3",
      "display_name": "Python 3"
    },
    "language_info": {
      "name": "python"
    },
    "accelerator": "GPU"
  },
  "cells": [
    {
      "cell_type": "markdown",
      "metadata": {
        "id": "view-in-github",
        "colab_type": "text"
      },
      "source": [
        "<a href=\"https://colab.research.google.com/github/HungPham2002/mnist-classification-using-torch-and-keras-framework/blob/main/MNIST_Classification_keras.ipynb\" target=\"_parent\"><img src=\"https://colab.research.google.com/assets/colab-badge.svg\" alt=\"Open In Colab\"/></a>"
      ]
    },
    {
      "cell_type": "markdown",
      "source": [
        "# Import neccessary libraries\n",
        "\n"
      ],
      "metadata": {
        "id": "wu0_1GpR6vJ7"
      }
    },
    {
      "cell_type": "code",
      "execution_count": null,
      "metadata": {
        "id": "wZ1FJ0xv6UZG"
      },
      "outputs": [],
      "source": [
        "import numpy as np\n",
        "import matplotlib.pyplot as plt\n",
        "from keras.models import Sequential\n",
        "from keras.layers import Dense, Dropout, Activation, Flatten\n",
        "from keras.layers import Conv2D, MaxPooling2D\n",
        "from keras.utils import np_utils\n",
        "from keras.datasets import mnist"
      ]
    },
    {
      "cell_type": "markdown",
      "source": [
        "# Load Data"
      ],
      "metadata": {
        "id": "uPx_frjG7CrT"
      }
    },
    {
      "cell_type": "markdown",
      "source": [
        "Dataset contains 60000 training set and 10000 test set. Then split the dataset into 2 part: 50000 to train and 10000 to validation set."
      ],
      "metadata": {
        "id": "p-C90_1y7jeg"
      }
    },
    {
      "cell_type": "code",
      "source": [
        "(X_train, y_train), (X_test, y_test) = mnist.load_data()\n",
        "X_val, y_val = X_train[50000:60000,:], y_train[50000:60000]\n",
        "X_train, y_train = X_train[:50000,:], y_train[:50000]\n",
        "print(X_train.shape)"
      ],
      "metadata": {
        "colab": {
          "base_uri": "https://localhost:8080/"
        },
        "id": "ry0qvDwT6a5-",
        "outputId": "9ef2d394-7b38-4898-9700-352a454e467e"
      },
      "execution_count": null,
      "outputs": [
        {
          "output_type": "stream",
          "name": "stdout",
          "text": [
            "Downloading data from https://storage.googleapis.com/tensorflow/tf-keras-datasets/mnist.npz\n",
            "11490434/11490434 [==============================] - 2s 0us/step\n",
            "(50000, 28, 28)\n"
          ]
        }
      ]
    },
    {
      "cell_type": "markdown",
      "source": [
        "Input data of a CNN is a 4-dimensional tensor (N,W,H,D). W = H = 28 because it's a grayscale image, D = 1, N is the number of images for each training. Because of Image size (N,28,28), we need to reshape to (N * 28 * 28 * 1) to meet keras's size requirements"
      ],
      "metadata": {
        "id": "HCS4l9Iv8RPt"
      }
    },
    {
      "cell_type": "markdown",
      "source": [
        "# Data is reshaped to meet keras's requirements"
      ],
      "metadata": {
        "id": "uJSSpm3s8BPM"
      }
    },
    {
      "cell_type": "code",
      "source": [
        "X_train = X_train.reshape(X_train.shape[0], 28, 28, 1)\n",
        "X_val = X_val.reshape(X_val.shape[0], 28, 28, 1)\n",
        "X_test = X_test.reshape(X_test.shape[0], 28, 28, 1)"
      ],
      "metadata": {
        "id": "6Hr7m7QF6VUA"
      },
      "execution_count": null,
      "outputs": []
    },
    {
      "cell_type": "markdown",
      "source": [
        "# One hot encoding label Y. Eg: number 5 into a vector [0, 0, 0, 0, 0, 1, 0, 0, 0, 0]"
      ],
      "metadata": {
        "id": "N63dB_lD9YFH"
      }
    },
    {
      "cell_type": "code",
      "source": [
        "Y_train = np_utils.to_categorical(y_train, 10)\n",
        "Y_val = np_utils.to_categorical(y_val, 10)\n",
        "Y_test = np_utils.to_categorical(y_test, 10)\n",
        "print('Original label ', y_train[0])\n",
        "print('Label after encoding ',Y_train[0])"
      ],
      "metadata": {
        "colab": {
          "base_uri": "https://localhost:8080/"
        },
        "id": "e1yYubxs6VXL",
        "outputId": "3e0de4ab-7483-40ac-9403-dbc16485430d"
      },
      "execution_count": null,
      "outputs": [
        {
          "output_type": "stream",
          "name": "stdout",
          "text": [
            "Original label  5\n",
            "Label after encoding  [0. 0. 0. 0. 0. 1. 0. 0. 0. 0.]\n"
          ]
        }
      ]
    },
    {
      "cell_type": "markdown",
      "source": [
        "# Model"
      ],
      "metadata": {
        "id": "ql2DsFhR9_JN"
      }
    },
    {
      "cell_type": "code",
      "source": [
        "model = Sequential()\n",
        "model.add(Conv2D(32, (3, 3), activation = 'sigmoid', input_shape = (28,28,1)))\n",
        "model.add(Conv2D(32, (3, 3), activation='sigmoid'))\n",
        "model.add(MaxPooling2D(pool_size=(2,2)))\n",
        "model.add(Flatten())\n",
        "model.add(Dense(128, activation='sigmoid'))\n",
        "model.add(Dense(10, activation='softmax'))"
      ],
      "metadata": {
        "id": "rsO-iAqb6Va8"
      },
      "execution_count": null,
      "outputs": []
    },
    {
      "cell_type": "code",
      "source": [
        "model.summary()"
      ],
      "metadata": {
        "colab": {
          "base_uri": "https://localhost:8080/"
        },
        "id": "SehA-utK-pIX",
        "outputId": "926afc79-7439-42d0-988e-5cd8208ba60a"
      },
      "execution_count": null,
      "outputs": [
        {
          "output_type": "stream",
          "name": "stdout",
          "text": [
            "Model: \"sequential\"\n",
            "_________________________________________________________________\n",
            " Layer (type)                Output Shape              Param #   \n",
            "=================================================================\n",
            " conv2d (Conv2D)             (None, 26, 26, 32)        320       \n",
            "                                                                 \n",
            " conv2d_1 (Conv2D)           (None, 24, 24, 32)        9248      \n",
            "                                                                 \n",
            " max_pooling2d (MaxPooling2D  (None, 12, 12, 32)       0         \n",
            " )                                                               \n",
            "                                                                 \n",
            " flatten (Flatten)           (None, 4608)              0         \n",
            "                                                                 \n",
            " dense (Dense)               (None, 128)               589952    \n",
            "                                                                 \n",
            " dense_1 (Dense)             (None, 10)                1290      \n",
            "                                                                 \n",
            "=================================================================\n",
            "Total params: 600,810\n",
            "Trainable params: 600,810\n",
            "Non-trainable params: 0\n",
            "_________________________________________________________________\n"
          ]
        }
      ]
    },
    {
      "cell_type": "markdown",
      "source": [
        "# Compile model"
      ],
      "metadata": {
        "id": "UTOMYuPh-2V4"
      }
    },
    {
      "cell_type": "code",
      "source": [
        "model.compile(loss = 'categorical_crossentropy',\n",
        "              optimizer = 'adam',\n",
        "              metrics = ['accuracy'])"
      ],
      "metadata": {
        "id": "ibD_OCdG6Vd9"
      },
      "execution_count": null,
      "outputs": []
    },
    {
      "cell_type": "markdown",
      "source": [
        "# Train model"
      ],
      "metadata": {
        "id": "dgjF3ZUw_K1q"
      }
    },
    {
      "cell_type": "code",
      "source": [
        "H = model.fit(X_train, Y_train, validation_data=(X_val, Y_val),\n",
        "          batch_size=32, epochs=10, verbose=1)"
      ],
      "metadata": {
        "colab": {
          "base_uri": "https://localhost:8080/"
        },
        "id": "WrANhiHH6WWK",
        "outputId": "7aa28aae-8ac0-4370-fc94-77307bc490fa"
      },
      "execution_count": null,
      "outputs": [
        {
          "output_type": "stream",
          "name": "stdout",
          "text": [
            "Epoch 1/10\n",
            "1563/1563 [==============================] - 23s 5ms/step - loss: 0.2836 - accuracy: 0.9227 - val_loss: 0.1040 - val_accuracy: 0.9697\n",
            "Epoch 2/10\n",
            "1563/1563 [==============================] - 7s 5ms/step - loss: 0.0626 - accuracy: 0.9822 - val_loss: 0.0555 - val_accuracy: 0.9844\n",
            "Epoch 3/10\n",
            "1563/1563 [==============================] - 7s 5ms/step - loss: 0.0398 - accuracy: 0.9888 - val_loss: 0.0458 - val_accuracy: 0.9871\n",
            "Epoch 4/10\n",
            "1563/1563 [==============================] - 7s 5ms/step - loss: 0.0266 - accuracy: 0.9923 - val_loss: 0.0428 - val_accuracy: 0.9878\n",
            "Epoch 5/10\n",
            "1563/1563 [==============================] - 8s 5ms/step - loss: 0.0193 - accuracy: 0.9944 - val_loss: 0.0407 - val_accuracy: 0.9878\n",
            "Epoch 6/10\n",
            "1563/1563 [==============================] - 7s 5ms/step - loss: 0.0129 - accuracy: 0.9964 - val_loss: 0.0389 - val_accuracy: 0.9888\n",
            "Epoch 7/10\n",
            "1563/1563 [==============================] - 7s 4ms/step - loss: 0.0090 - accuracy: 0.9975 - val_loss: 0.0401 - val_accuracy: 0.9878\n",
            "Epoch 8/10\n",
            "1563/1563 [==============================] - 8s 5ms/step - loss: 0.0058 - accuracy: 0.9986 - val_loss: 0.0412 - val_accuracy: 0.9884\n",
            "Epoch 9/10\n",
            "1563/1563 [==============================] - 7s 5ms/step - loss: 0.0049 - accuracy: 0.9989 - val_loss: 0.0498 - val_accuracy: 0.9861\n",
            "Epoch 10/10\n",
            "1563/1563 [==============================] - 8s 5ms/step - loss: 0.0040 - accuracy: 0.9991 - val_loss: 0.0431 - val_accuracy: 0.9884\n"
          ]
        }
      ]
    },
    {
      "cell_type": "markdown",
      "source": [
        "# Plot loss & accuracy"
      ],
      "metadata": {
        "id": "1-4LR1n1_WUB"
      }
    },
    {
      "cell_type": "code",
      "source": [
        "fig = plt.figure()\n",
        "numOfEpoch = 10\n",
        "plt.plot(np.arange(0, numOfEpoch), H.history['loss'], label='training loss')\n",
        "plt.plot(np.arange(0, numOfEpoch), H.history['val_loss'], label='validation loss')\n",
        "plt.plot(np.arange(0, numOfEpoch), H.history['accuracy'], label='accuracy')\n",
        "plt.plot(np.arange(0, numOfEpoch), H.history['val_accuracy'], label='validation accuracy')\n",
        "plt.title('Accuracy and Loss')\n",
        "plt.xlabel('Epoch')\n",
        "plt.ylabel('Loss|Accuracy')\n",
        "plt.legend()"
      ],
      "metadata": {
        "colab": {
          "base_uri": "https://localhost:8080/",
          "height": 489
        },
        "id": "Ub3AeoLO6WYz",
        "outputId": "bcf14359-b0cb-43d9-f328-3bff1d0c4d17"
      },
      "execution_count": null,
      "outputs": [
        {
          "output_type": "execute_result",
          "data": {
            "text/plain": [
              "<matplotlib.legend.Legend at 0x7d6410f7d7e0>"
            ]
          },
          "metadata": {},
          "execution_count": 11
        },
        {
          "output_type": "display_data",
          "data": {
            "text/plain": [
              "<Figure size 640x480 with 1 Axes>"
            ],
            "image/png": "[encoded data removed]"
          },
          "metadata": {}
        }
      ]
    },
    {
      "cell_type": "markdown",
      "source": [
        "# Test set evaluation"
      ],
      "metadata": {
        "id": "ooZA98FF_co7"
      }
    },
    {
      "cell_type": "code",
      "source": [
        "score = model.evaluate(X_test, Y_test, verbose=0)\n",
        "print(score)"
      ],
      "metadata": {
        "colab": {
          "base_uri": "https://localhost:8080/"
        },
        "id": "6mhjbfA16Wbv",
        "outputId": "1201724c-3989-41df-c358-a3b08f177b1f"
      },
      "execution_count": null,
      "outputs": [
        {
          "output_type": "stream",
          "name": "stdout",
          "text": [
            "[0.038889821618795395, 0.988099992275238]\n"
          ]
        }
      ]
    },
    {
      "cell_type": "markdown",
      "source": [
        "# Image prediction"
      ],
      "metadata": {
        "id": "1nTzXTEG_gms"
      }
    },
    {
      "cell_type": "code",
      "source": [
        "plt.imshow(X_test[0].reshape(28,28), cmap='gray')\n",
        "\n",
        "y_predict = model.predict(X_test[0].reshape(1,28,28,1))\n",
        "print('Prediction: ', np.argmax(y_predict))"
      ],
      "metadata": {
        "colab": {
          "base_uri": "https://localhost:8080/",
          "height": 465
        },
        "id": "ggQULdKy6We5",
        "outputId": "21322fdf-114f-48e8-faff-187b4cb20635"
      },
      "execution_count": null,
      "outputs": [
        {
          "output_type": "stream",
          "name": "stdout",
          "text": [
            "1/1 [==============================] - 0s 29ms/step\n",
            "Prediction:  7\n"
          ]
        },
        {
          "output_type": "display_data",
          "data": {
            "text/plain": [
              "<Figure size 640x480 with 1 Axes>"
            ],
            "image/png": "[encoded data removed]"
          },
          "metadata": {}
        }
      ]
    }
  ]
}